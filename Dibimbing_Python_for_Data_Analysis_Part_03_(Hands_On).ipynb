{
  "cells": [
    {
      "cell_type": "markdown",
      "metadata": {
        "id": "view-in-github",
        "colab_type": "text"
      },
      "source": [
        "<a href=\"https://colab.research.google.com/github/dartwinshu/dibimbing-python-for-data-analysis/blob/main/Dibimbing_Python_for_Data_Analysis_Part_03_(Hands_On).ipynb\" target=\"_parent\"><img src=\"https://colab.research.google.com/assets/colab-badge.svg\" alt=\"Open In Colab\"/></a>"
      ]
    },
    {
      "cell_type": "code",
      "execution_count": null,
      "id": "43f3ed2a",
      "metadata": {
        "id": "43f3ed2a"
      },
      "outputs": [],
      "source": [
        "import pandas as pd\n",
        "import numpy as np\n",
        "import matplotlib.pyplot as plt\n",
        "import seaborn as sns"
      ]
    },
    {
      "cell_type": "code",
      "execution_count": null,
      "id": "ed7a338c",
      "metadata": {
        "id": "ed7a338c"
      },
      "outputs": [],
      "source": [
        "titanic = pd.read_csv('cleaned_titanic.csv')\n",
        "apartment = pd.read_csv('apartdata.csv')\n",
        "apartment = apartment[(apartment['Currency'] == 'IDR')]"
      ]
    },
    {
      "cell_type": "code",
      "execution_count": null,
      "id": "1a4271ef",
      "metadata": {
        "id": "1a4271ef",
        "outputId": "139b466c-fb1f-4e17-dd0b-3c84d1147447"
      },
      "outputs": [
        {
          "data": {
            "text/html": [
              "<div>\n",
              "<style scoped>\n",
              "    .dataframe tbody tr th:only-of-type {\n",
              "        vertical-align: middle;\n",
              "    }\n",
              "\n",
              "    .dataframe tbody tr th {\n",
              "        vertical-align: top;\n",
              "    }\n",
              "\n",
              "    .dataframe thead th {\n",
              "        text-align: right;\n",
              "    }\n",
              "</style>\n",
              "<table border=\"1\" class=\"dataframe\">\n",
              "  <thead>\n",
              "    <tr style=\"text-align: right;\">\n",
              "      <th></th>\n",
              "      <th>Survived</th>\n",
              "      <th>Sex</th>\n",
              "      <th>Age</th>\n",
              "      <th>SiblingsSpouse</th>\n",
              "      <th>ParentChildren</th>\n",
              "      <th>Fare</th>\n",
              "      <th>EmbarkedCity</th>\n",
              "      <th>Class</th>\n",
              "      <th>MedianAge</th>\n",
              "      <th>Age Class</th>\n",
              "    </tr>\n",
              "  </thead>\n",
              "  <tbody>\n",
              "    <tr>\n",
              "      <th>0</th>\n",
              "      <td>0</td>\n",
              "      <td>male</td>\n",
              "      <td>22.0</td>\n",
              "      <td>1</td>\n",
              "      <td>0</td>\n",
              "      <td>7.2500</td>\n",
              "      <td>S</td>\n",
              "      <td>Third</td>\n",
              "      <td>28.25</td>\n",
              "      <td>Young Adult</td>\n",
              "    </tr>\n",
              "    <tr>\n",
              "      <th>1</th>\n",
              "      <td>1</td>\n",
              "      <td>female</td>\n",
              "      <td>38.0</td>\n",
              "      <td>1</td>\n",
              "      <td>0</td>\n",
              "      <td>71.2833</td>\n",
              "      <td>C</td>\n",
              "      <td>First</td>\n",
              "      <td>27.00</td>\n",
              "      <td>Adult</td>\n",
              "    </tr>\n",
              "    <tr>\n",
              "      <th>2</th>\n",
              "      <td>1</td>\n",
              "      <td>female</td>\n",
              "      <td>26.0</td>\n",
              "      <td>0</td>\n",
              "      <td>0</td>\n",
              "      <td>7.9250</td>\n",
              "      <td>S</td>\n",
              "      <td>Third</td>\n",
              "      <td>29.00</td>\n",
              "      <td>Young Adult</td>\n",
              "    </tr>\n",
              "    <tr>\n",
              "      <th>3</th>\n",
              "      <td>1</td>\n",
              "      <td>female</td>\n",
              "      <td>35.0</td>\n",
              "      <td>1</td>\n",
              "      <td>0</td>\n",
              "      <td>53.1000</td>\n",
              "      <td>S</td>\n",
              "      <td>First</td>\n",
              "      <td>29.00</td>\n",
              "      <td>Adult</td>\n",
              "    </tr>\n",
              "    <tr>\n",
              "      <th>4</th>\n",
              "      <td>0</td>\n",
              "      <td>male</td>\n",
              "      <td>35.0</td>\n",
              "      <td>0</td>\n",
              "      <td>0</td>\n",
              "      <td>8.0500</td>\n",
              "      <td>S</td>\n",
              "      <td>Third</td>\n",
              "      <td>28.25</td>\n",
              "      <td>Adult</td>\n",
              "    </tr>\n",
              "    <tr>\n",
              "      <th>...</th>\n",
              "      <td>...</td>\n",
              "      <td>...</td>\n",
              "      <td>...</td>\n",
              "      <td>...</td>\n",
              "      <td>...</td>\n",
              "      <td>...</td>\n",
              "      <td>...</td>\n",
              "      <td>...</td>\n",
              "      <td>...</td>\n",
              "      <td>...</td>\n",
              "    </tr>\n",
              "    <tr>\n",
              "      <th>884</th>\n",
              "      <td>0</td>\n",
              "      <td>male</td>\n",
              "      <td>27.0</td>\n",
              "      <td>0</td>\n",
              "      <td>0</td>\n",
              "      <td>13.0000</td>\n",
              "      <td>S</td>\n",
              "      <td>Second</td>\n",
              "      <td>28.25</td>\n",
              "      <td>Young Adult</td>\n",
              "    </tr>\n",
              "    <tr>\n",
              "      <th>885</th>\n",
              "      <td>1</td>\n",
              "      <td>female</td>\n",
              "      <td>19.0</td>\n",
              "      <td>0</td>\n",
              "      <td>0</td>\n",
              "      <td>30.0000</td>\n",
              "      <td>S</td>\n",
              "      <td>First</td>\n",
              "      <td>29.00</td>\n",
              "      <td>Teen</td>\n",
              "    </tr>\n",
              "    <tr>\n",
              "      <th>886</th>\n",
              "      <td>0</td>\n",
              "      <td>female</td>\n",
              "      <td>25.0</td>\n",
              "      <td>1</td>\n",
              "      <td>2</td>\n",
              "      <td>23.4500</td>\n",
              "      <td>S</td>\n",
              "      <td>Third</td>\n",
              "      <td>25.00</td>\n",
              "      <td>Young Adult</td>\n",
              "    </tr>\n",
              "    <tr>\n",
              "      <th>887</th>\n",
              "      <td>1</td>\n",
              "      <td>male</td>\n",
              "      <td>26.0</td>\n",
              "      <td>0</td>\n",
              "      <td>0</td>\n",
              "      <td>30.0000</td>\n",
              "      <td>C</td>\n",
              "      <td>First</td>\n",
              "      <td>26.50</td>\n",
              "      <td>Young Adult</td>\n",
              "    </tr>\n",
              "    <tr>\n",
              "      <th>888</th>\n",
              "      <td>0</td>\n",
              "      <td>male</td>\n",
              "      <td>32.0</td>\n",
              "      <td>0</td>\n",
              "      <td>0</td>\n",
              "      <td>7.7500</td>\n",
              "      <td>Q</td>\n",
              "      <td>Third</td>\n",
              "      <td>31.00</td>\n",
              "      <td>Adult</td>\n",
              "    </tr>\n",
              "  </tbody>\n",
              "</table>\n",
              "<p>889 rows × 10 columns</p>\n",
              "</div>"
            ],
            "text/plain": [
              "     Survived     Sex   Age  SiblingsSpouse  ParentChildren     Fare  \\\n",
              "0           0    male  22.0               1               0   7.2500   \n",
              "1           1  female  38.0               1               0  71.2833   \n",
              "2           1  female  26.0               0               0   7.9250   \n",
              "3           1  female  35.0               1               0  53.1000   \n",
              "4           0    male  35.0               0               0   8.0500   \n",
              "..        ...     ...   ...             ...             ...      ...   \n",
              "884         0    male  27.0               0               0  13.0000   \n",
              "885         1  female  19.0               0               0  30.0000   \n",
              "886         0  female  25.0               1               2  23.4500   \n",
              "887         1    male  26.0               0               0  30.0000   \n",
              "888         0    male  32.0               0               0   7.7500   \n",
              "\n",
              "    EmbarkedCity   Class  MedianAge    Age Class  \n",
              "0              S   Third      28.25  Young Adult  \n",
              "1              C   First      27.00        Adult  \n",
              "2              S   Third      29.00  Young Adult  \n",
              "3              S   First      29.00        Adult  \n",
              "4              S   Third      28.25        Adult  \n",
              "..           ...     ...        ...          ...  \n",
              "884            S  Second      28.25  Young Adult  \n",
              "885            S   First      29.00         Teen  \n",
              "886            S   Third      25.00  Young Adult  \n",
              "887            C   First      26.50  Young Adult  \n",
              "888            Q   Third      31.00        Adult  \n",
              "\n",
              "[889 rows x 10 columns]"
            ]
          },
          "execution_count": 20,
          "metadata": {},
          "output_type": "execute_result"
        }
      ],
      "source": [
        "titanic"
      ]
    },
    {
      "cell_type": "code",
      "execution_count": null,
      "id": "b25f4702",
      "metadata": {
        "id": "b25f4702",
        "outputId": "9aeb35d9-798c-41b7-938d-9e9ac90b57e2"
      },
      "outputs": [
        {
          "data": {
            "text/html": [
              "<div>\n",
              "<style scoped>\n",
              "    .dataframe tbody tr th:only-of-type {\n",
              "        vertical-align: middle;\n",
              "    }\n",
              "\n",
              "    .dataframe tbody tr th {\n",
              "        vertical-align: top;\n",
              "    }\n",
              "\n",
              "    .dataframe thead th {\n",
              "        text-align: right;\n",
              "    }\n",
              "</style>\n",
              "<table border=\"1\" class=\"dataframe\">\n",
              "  <thead>\n",
              "    <tr style=\"text-align: right;\">\n",
              "      <th></th>\n",
              "      <th>Unit_Name</th>\n",
              "      <th>No_Rooms</th>\n",
              "      <th>Bathroom</th>\n",
              "      <th>Locality</th>\n",
              "      <th>Region</th>\n",
              "      <th>Longitude</th>\n",
              "      <th>Latitude</th>\n",
              "      <th>Furnished</th>\n",
              "      <th>Area</th>\n",
              "      <th>Tower</th>\n",
              "      <th>Total_Facilities</th>\n",
              "      <th>Currency</th>\n",
              "      <th>Annual_Price</th>\n",
              "    </tr>\n",
              "  </thead>\n",
              "  <tbody>\n",
              "    <tr>\n",
              "      <th>0</th>\n",
              "      <td>Taman Sari Semanggi Apartment 1BR Tower A</td>\n",
              "      <td>1</td>\n",
              "      <td>1</td>\n",
              "      <td>Semanggi</td>\n",
              "      <td>Jakarta Selatan</td>\n",
              "      <td>106.819159</td>\n",
              "      <td>-6.226598</td>\n",
              "      <td>1</td>\n",
              "      <td>43.0</td>\n",
              "      <td>Tower A</td>\n",
              "      <td>23</td>\n",
              "      <td>IDR</td>\n",
              "      <td>96000000</td>\n",
              "    </tr>\n",
              "    <tr>\n",
              "      <th>1</th>\n",
              "      <td>Puri Park View Apartment 2BR Semi Furnished</td>\n",
              "      <td>2</td>\n",
              "      <td>1</td>\n",
              "      <td>Kebon Jeruk</td>\n",
              "      <td>Jakarta Barat</td>\n",
              "      <td>106.756061</td>\n",
              "      <td>-6.192081</td>\n",
              "      <td>0</td>\n",
              "      <td>35.0</td>\n",
              "      <td>Tower CB</td>\n",
              "      <td>19</td>\n",
              "      <td>IDR</td>\n",
              "      <td>30000000</td>\n",
              "    </tr>\n",
              "    <tr>\n",
              "      <th>2</th>\n",
              "      <td>Metro Park Residence 2BR Fully Furnished</td>\n",
              "      <td>2</td>\n",
              "      <td>1</td>\n",
              "      <td>Kedoya</td>\n",
              "      <td>Jakarta Barat</td>\n",
              "      <td>106.757651</td>\n",
              "      <td>-6.186415</td>\n",
              "      <td>1</td>\n",
              "      <td>53.0</td>\n",
              "      <td>Tower Milan</td>\n",
              "      <td>22</td>\n",
              "      <td>IDR</td>\n",
              "      <td>70000000</td>\n",
              "    </tr>\n",
              "    <tr>\n",
              "      <th>3</th>\n",
              "      <td>Pondok Indah Golf Apartment 2BR View Golf Area</td>\n",
              "      <td>2</td>\n",
              "      <td>2</td>\n",
              "      <td>Pondok Indah</td>\n",
              "      <td>Jakarta Selatan</td>\n",
              "      <td>106.784600</td>\n",
              "      <td>-6.272637</td>\n",
              "      <td>1</td>\n",
              "      <td>85.0</td>\n",
              "      <td>Tower -</td>\n",
              "      <td>24</td>\n",
              "      <td>IDR</td>\n",
              "      <td>576000000</td>\n",
              "    </tr>\n",
              "    <tr>\n",
              "      <th>4</th>\n",
              "      <td>Season City Apartment 2BR Tower C</td>\n",
              "      <td>2</td>\n",
              "      <td>1</td>\n",
              "      <td>Grogol</td>\n",
              "      <td>Jakarta Barat</td>\n",
              "      <td>106.796056</td>\n",
              "      <td>-6.153652</td>\n",
              "      <td>0</td>\n",
              "      <td>48.0</td>\n",
              "      <td>Tower C</td>\n",
              "      <td>15</td>\n",
              "      <td>IDR</td>\n",
              "      <td>32000000</td>\n",
              "    </tr>\n",
              "    <tr>\n",
              "      <th>...</th>\n",
              "      <td>...</td>\n",
              "      <td>...</td>\n",
              "      <td>...</td>\n",
              "      <td>...</td>\n",
              "      <td>...</td>\n",
              "      <td>...</td>\n",
              "      <td>...</td>\n",
              "      <td>...</td>\n",
              "      <td>...</td>\n",
              "      <td>...</td>\n",
              "      <td>...</td>\n",
              "      <td>...</td>\n",
              "      <td>...</td>\n",
              "    </tr>\n",
              "    <tr>\n",
              "      <th>5298</th>\n",
              "      <td>Grand Centerpoint Apartment 2BR View pool</td>\n",
              "      <td>2</td>\n",
              "      <td>1</td>\n",
              "      <td>Pekayon</td>\n",
              "      <td>Bekasi</td>\n",
              "      <td>106.993400</td>\n",
              "      <td>-6.243400</td>\n",
              "      <td>1</td>\n",
              "      <td>36.0</td>\n",
              "      <td>Tower c</td>\n",
              "      <td>14</td>\n",
              "      <td>IDR</td>\n",
              "      <td>36000000</td>\n",
              "    </tr>\n",
              "    <tr>\n",
              "      <th>5299</th>\n",
              "      <td>Roseville SOHO &amp; Suites Studio Fully Furnished</td>\n",
              "      <td>0</td>\n",
              "      <td>1</td>\n",
              "      <td>BSD City</td>\n",
              "      <td>Tangerang</td>\n",
              "      <td>106.664000</td>\n",
              "      <td>-6.294400</td>\n",
              "      <td>1</td>\n",
              "      <td>32.0</td>\n",
              "      <td>Tower East</td>\n",
              "      <td>16</td>\n",
              "      <td>IDR</td>\n",
              "      <td>60000000</td>\n",
              "    </tr>\n",
              "    <tr>\n",
              "      <th>5300</th>\n",
              "      <td>Setiabudi Residence 2BR Fully Furnished</td>\n",
              "      <td>2</td>\n",
              "      <td>1</td>\n",
              "      <td>Setiabudi</td>\n",
              "      <td>Jakarta Selatan</td>\n",
              "      <td>106.829330</td>\n",
              "      <td>-6.216540</td>\n",
              "      <td>1</td>\n",
              "      <td>83.0</td>\n",
              "      <td>Tower B</td>\n",
              "      <td>21</td>\n",
              "      <td>IDR</td>\n",
              "      <td>250000000</td>\n",
              "    </tr>\n",
              "    <tr>\n",
              "      <th>5301</th>\n",
              "      <td>Apartemen Semanggi 2BR Tower 1</td>\n",
              "      <td>2</td>\n",
              "      <td>1</td>\n",
              "      <td>Slipi</td>\n",
              "      <td>Jakarta Pusat</td>\n",
              "      <td>106.801738</td>\n",
              "      <td>-6.202296</td>\n",
              "      <td>1</td>\n",
              "      <td>68.0</td>\n",
              "      <td>Tower 1</td>\n",
              "      <td>24</td>\n",
              "      <td>IDR</td>\n",
              "      <td>108000000</td>\n",
              "    </tr>\n",
              "    <tr>\n",
              "      <th>5302</th>\n",
              "      <td>Signature Park Grande 2BR View City</td>\n",
              "      <td>2</td>\n",
              "      <td>1</td>\n",
              "      <td>MT Haryono</td>\n",
              "      <td>Jakarta Timur</td>\n",
              "      <td>106.866201</td>\n",
              "      <td>-6.245201</td>\n",
              "      <td>1</td>\n",
              "      <td>42.0</td>\n",
              "      <td>Tower TA</td>\n",
              "      <td>20</td>\n",
              "      <td>IDR</td>\n",
              "      <td>108000000</td>\n",
              "    </tr>\n",
              "  </tbody>\n",
              "</table>\n",
              "<p>5251 rows × 13 columns</p>\n",
              "</div>"
            ],
            "text/plain": [
              "                                           Unit_Name  No_Rooms  Bathroom  \\\n",
              "0          Taman Sari Semanggi Apartment 1BR Tower A         1         1   \n",
              "1        Puri Park View Apartment 2BR Semi Furnished         2         1   \n",
              "2           Metro Park Residence 2BR Fully Furnished         2         1   \n",
              "3     Pondok Indah Golf Apartment 2BR View Golf Area         2         2   \n",
              "4                  Season City Apartment 2BR Tower C         2         1   \n",
              "...                                              ...       ...       ...   \n",
              "5298       Grand Centerpoint Apartment 2BR View pool         2         1   \n",
              "5299  Roseville SOHO & Suites Studio Fully Furnished         0         1   \n",
              "5300         Setiabudi Residence 2BR Fully Furnished         2         1   \n",
              "5301                  Apartemen Semanggi 2BR Tower 1         2         1   \n",
              "5302             Signature Park Grande 2BR View City         2         1   \n",
              "\n",
              "          Locality           Region   Longitude  Latitude  Furnished  Area  \\\n",
              "0         Semanggi  Jakarta Selatan  106.819159 -6.226598          1  43.0   \n",
              "1      Kebon Jeruk    Jakarta Barat  106.756061 -6.192081          0  35.0   \n",
              "2           Kedoya    Jakarta Barat  106.757651 -6.186415          1  53.0   \n",
              "3     Pondok Indah  Jakarta Selatan  106.784600 -6.272637          1  85.0   \n",
              "4           Grogol    Jakarta Barat  106.796056 -6.153652          0  48.0   \n",
              "...            ...              ...         ...       ...        ...   ...   \n",
              "5298       Pekayon           Bekasi  106.993400 -6.243400          1  36.0   \n",
              "5299      BSD City        Tangerang  106.664000 -6.294400          1  32.0   \n",
              "5300     Setiabudi  Jakarta Selatan  106.829330 -6.216540          1  83.0   \n",
              "5301         Slipi    Jakarta Pusat  106.801738 -6.202296          1  68.0   \n",
              "5302    MT Haryono    Jakarta Timur  106.866201 -6.245201          1  42.0   \n",
              "\n",
              "            Tower  Total_Facilities Currency  Annual_Price  \n",
              "0         Tower A                23      IDR      96000000  \n",
              "1        Tower CB                19      IDR      30000000  \n",
              "2     Tower Milan                22      IDR      70000000  \n",
              "3         Tower -                24      IDR     576000000  \n",
              "4         Tower C                15      IDR      32000000  \n",
              "...           ...               ...      ...           ...  \n",
              "5298      Tower c                14      IDR      36000000  \n",
              "5299   Tower East                16      IDR      60000000  \n",
              "5300      Tower B                21      IDR     250000000  \n",
              "5301      Tower 1                24      IDR     108000000  \n",
              "5302     Tower TA                20      IDR     108000000  \n",
              "\n",
              "[5251 rows x 13 columns]"
            ]
          },
          "execution_count": 4,
          "metadata": {},
          "output_type": "execute_result"
        }
      ],
      "source": [
        "apartment"
      ]
    },
    {
      "cell_type": "markdown",
      "id": "a7163e90",
      "metadata": {
        "id": "a7163e90"
      },
      "source": [
        "### Correlation"
      ]
    },
    {
      "cell_type": "markdown",
      "id": "055164c0",
      "metadata": {
        "id": "055164c0"
      },
      "source": [
        "Correlation ideally should be done on numerical and numerical data. Let's do a few ones:\n",
        "- Is there a correlation between Age and Fare?\n",
        "- Is there a correlation between Area and Annual Price?"
      ]
    },
    {
      "cell_type": "code",
      "execution_count": null,
      "id": "5027f743",
      "metadata": {
        "id": "5027f743",
        "outputId": "c9b098ef-4307-47ee-f258-526cda063c3b"
      },
      "outputs": [
        {
          "data": {
            "text/plain": [
              "array([[1.        , 0.09633121],\n",
              "       [0.09633121, 1.        ]])"
            ]
          },
          "execution_count": 22,
          "metadata": {},
          "output_type": "execute_result"
        }
      ],
      "source": [
        "np.corrcoef(titanic['Age'], titanic['Fare'])"
      ]
    },
    {
      "cell_type": "markdown",
      "id": "9a2d4121",
      "metadata": {
        "id": "9a2d4121"
      },
      "source": [
        "We find that there's a 0.09 pearson correlation between 'Age' and 'Fare'."
      ]
    },
    {
      "cell_type": "code",
      "execution_count": null,
      "id": "1c306935",
      "metadata": {
        "id": "1c306935",
        "outputId": "096710aa-c0e9-47d8-e926-f68e1feaa3fc"
      },
      "outputs": [
        {
          "data": {
            "text/plain": [
              "<AxesSubplot:xlabel='Age', ylabel='Fare'>"
            ]
          },
          "execution_count": 23,
          "metadata": {},
          "output_type": "execute_result"
        },
        {
          "data": {
            "image/png": "[encoded data removed]",
            "text/plain": [
              "<Figure size 432x288 with 1 Axes>"
            ]
          },
          "metadata": {
            "needs_background": "light"
          },
          "output_type": "display_data"
        }
      ],
      "source": [
        "sns.scatterplot(data = titanic, x = 'Age', y = 'Fare')"
      ]
    },
    {
      "cell_type": "markdown",
      "id": "fbc884d7",
      "metadata": {
        "id": "fbc884d7"
      },
      "source": [
        "Yup, doesn't seem to be strongly correlated."
      ]
    },
    {
      "cell_type": "markdown",
      "id": "71e60dec",
      "metadata": {
        "id": "71e60dec"
      },
      "source": [
        "What about the apartment data?"
      ]
    },
    {
      "cell_type": "code",
      "execution_count": null,
      "id": "b42dab80",
      "metadata": {
        "id": "b42dab80",
        "outputId": "e3708ba2-e06f-449f-b8fd-18816f707881"
      },
      "outputs": [
        {
          "data": {
            "text/plain": [
              "array([[1.        , 0.23074523],\n",
              "       [0.23074523, 1.        ]])"
            ]
          },
          "execution_count": 24,
          "metadata": {},
          "output_type": "execute_result"
        }
      ],
      "source": [
        "np.corrcoef(apartment['Area'], apartment['Annual_Price'])"
      ]
    },
    {
      "cell_type": "code",
      "execution_count": null,
      "id": "66319bb0",
      "metadata": {
        "id": "66319bb0",
        "outputId": "65c78f53-deae-4bb8-c49d-324c1a8e2099"
      },
      "outputs": [
        {
          "data": {
            "text/plain": [
              "<AxesSubplot:xlabel='Area', ylabel='Annual_Price'>"
            ]
          },
          "execution_count": 25,
          "metadata": {},
          "output_type": "execute_result"
        },
        {
          "data": {
            "image/png": "[encoded data removed]",
            "text/plain": [
              "<Figure size 432x288 with 1 Axes>"
            ]
          },
          "metadata": {
            "needs_background": "light"
          },
          "output_type": "display_data"
        }
      ],
      "source": [
        "sns.scatterplot(data = apartment, x = 'Area', y = 'Annual_Price')"
      ]
    },
    {
      "cell_type": "markdown",
      "id": "bdd15f7c",
      "metadata": {
        "id": "bdd15f7c"
      },
      "source": [
        "Outliers can heavily affect correlation score. We would think that Area of an apartment would be highly correlated to the price, but it doesn't seem to be the case here - because we have a few apartments who have very high Area, but low price. \n",
        "\n",
        "Let's see what's going on here."
      ]
    },
    {
      "cell_type": "code",
      "execution_count": null,
      "id": "a0c3d4b9",
      "metadata": {
        "id": "a0c3d4b9",
        "outputId": "73801b06-f16a-45ef-b2ff-b611df3488fe"
      },
      "outputs": [
        {
          "data": {
            "text/html": [
              "<div>\n",
              "<style scoped>\n",
              "    .dataframe tbody tr th:only-of-type {\n",
              "        vertical-align: middle;\n",
              "    }\n",
              "\n",
              "    .dataframe tbody tr th {\n",
              "        vertical-align: top;\n",
              "    }\n",
              "\n",
              "    .dataframe thead th {\n",
              "        text-align: right;\n",
              "    }\n",
              "</style>\n",
              "<table border=\"1\" class=\"dataframe\">\n",
              "  <thead>\n",
              "    <tr style=\"text-align: right;\">\n",
              "      <th></th>\n",
              "      <th>Unit_Name</th>\n",
              "      <th>No_Rooms</th>\n",
              "      <th>Bathroom</th>\n",
              "      <th>Locality</th>\n",
              "      <th>Region</th>\n",
              "      <th>Longitude</th>\n",
              "      <th>Latitude</th>\n",
              "      <th>Furnished</th>\n",
              "      <th>Area</th>\n",
              "      <th>Tower</th>\n",
              "      <th>Total_Facilities</th>\n",
              "      <th>Currency</th>\n",
              "      <th>Annual_Price</th>\n",
              "    </tr>\n",
              "  </thead>\n",
              "  <tbody>\n",
              "    <tr>\n",
              "      <th>4583</th>\n",
              "      <td>The Accent 2BR</td>\n",
              "      <td>2</td>\n",
              "      <td>1</td>\n",
              "      <td>Bintaro</td>\n",
              "      <td>Jakarta Selatan</td>\n",
              "      <td>106.723300</td>\n",
              "      <td>-6.274000</td>\n",
              "      <td>1</td>\n",
              "      <td>7781.0</td>\n",
              "      <td>Tower Tower B</td>\n",
              "      <td>11</td>\n",
              "      <td>IDR</td>\n",
              "      <td>150000000</td>\n",
              "    </tr>\n",
              "    <tr>\n",
              "      <th>4802</th>\n",
              "      <td>Kemang Village Apartment 3BR Fully Furnished</td>\n",
              "      <td>3</td>\n",
              "      <td>3</td>\n",
              "      <td>Kemang</td>\n",
              "      <td>Jakarta Selatan</td>\n",
              "      <td>106.811453</td>\n",
              "      <td>-6.259374</td>\n",
              "      <td>1</td>\n",
              "      <td>2014.0</td>\n",
              "      <td>Tower Bloomington</td>\n",
              "      <td>22</td>\n",
              "      <td>IDR</td>\n",
              "      <td>540000000</td>\n",
              "    </tr>\n",
              "    <tr>\n",
              "      <th>4855</th>\n",
              "      <td>The Accent Bintaro</td>\n",
              "      <td>2</td>\n",
              "      <td>1</td>\n",
              "      <td>Bintaro</td>\n",
              "      <td>Jakarta Selatan</td>\n",
              "      <td>106.723300</td>\n",
              "      <td>-6.274000</td>\n",
              "      <td>1</td>\n",
              "      <td>7781.0</td>\n",
              "      <td>Tower The accent</td>\n",
              "      <td>11</td>\n",
              "      <td>IDR</td>\n",
              "      <td>140000000</td>\n",
              "    </tr>\n",
              "    <tr>\n",
              "      <th>5019</th>\n",
              "      <td>Maqna Residence 3+1BR Tower 1</td>\n",
              "      <td>3</td>\n",
              "      <td>2</td>\n",
              "      <td>Kebon Jeruk</td>\n",
              "      <td>Jakarta Barat</td>\n",
              "      <td>106.761852</td>\n",
              "      <td>-6.196997</td>\n",
              "      <td>0</td>\n",
              "      <td>1138.0</td>\n",
              "      <td>Tower 1</td>\n",
              "      <td>9</td>\n",
              "      <td>IDR</td>\n",
              "      <td>110000000</td>\n",
              "    </tr>\n",
              "  </tbody>\n",
              "</table>\n",
              "</div>"
            ],
            "text/plain": [
              "                                         Unit_Name  No_Rooms  Bathroom  \\\n",
              "4583                                The Accent 2BR         2         1   \n",
              "4802  Kemang Village Apartment 3BR Fully Furnished         3         3   \n",
              "4855                            The Accent Bintaro         2         1   \n",
              "5019                 Maqna Residence 3+1BR Tower 1         3         2   \n",
              "\n",
              "         Locality           Region   Longitude  Latitude  Furnished    Area  \\\n",
              "4583      Bintaro  Jakarta Selatan  106.723300 -6.274000          1  7781.0   \n",
              "4802       Kemang  Jakarta Selatan  106.811453 -6.259374          1  2014.0   \n",
              "4855      Bintaro  Jakarta Selatan  106.723300 -6.274000          1  7781.0   \n",
              "5019  Kebon Jeruk    Jakarta Barat  106.761852 -6.196997          0  1138.0   \n",
              "\n",
              "                  Tower  Total_Facilities Currency  Annual_Price  \n",
              "4583      Tower Tower B                11      IDR     150000000  \n",
              "4802  Tower Bloomington                22      IDR     540000000  \n",
              "4855   Tower The accent                11      IDR     140000000  \n",
              "5019            Tower 1                 9      IDR     110000000  "
            ]
          },
          "execution_count": 26,
          "metadata": {},
          "output_type": "execute_result"
        }
      ],
      "source": [
        "apartment[apartment['Area'] > 1000]"
      ]
    },
    {
      "cell_type": "markdown",
      "id": "32c2e954",
      "metadata": {
        "id": "32c2e954"
      },
      "source": [
        "What if we remove these 4 apartments?"
      ]
    },
    {
      "cell_type": "code",
      "execution_count": null,
      "id": "5237bc6c",
      "metadata": {
        "id": "5237bc6c"
      },
      "outputs": [],
      "source": [
        "subset_apartment = apartment[apartment['Area']<1000]"
      ]
    },
    {
      "cell_type": "code",
      "execution_count": null,
      "id": "5b0caba3",
      "metadata": {
        "id": "5b0caba3",
        "outputId": "4d7baff9-8018-4dad-d9bd-051561fbfc61"
      },
      "outputs": [
        {
          "data": {
            "text/plain": [
              "array([[1.        , 0.83528768],\n",
              "       [0.83528768, 1.        ]])"
            ]
          },
          "execution_count": 28,
          "metadata": {},
          "output_type": "execute_result"
        }
      ],
      "source": [
        "np.corrcoef(subset_apartment['Area'], subset_apartment['Annual_Price'])"
      ]
    },
    {
      "cell_type": "code",
      "execution_count": null,
      "id": "21c991af",
      "metadata": {
        "id": "21c991af",
        "outputId": "f20ee7ed-becd-451a-fe40-cdceda1c1627"
      },
      "outputs": [
        {
          "data": {
            "text/plain": [
              "<AxesSubplot:xlabel='Area', ylabel='Annual_Price'>"
            ]
          },
          "execution_count": 29,
          "metadata": {},
          "output_type": "execute_result"
        },
        {
          "data": {
            "image/png": "[encoded data removed]",
            "text/plain": [
              "<Figure size 432x288 with 1 Axes>"
            ]
          },
          "metadata": {
            "needs_background": "light"
          },
          "output_type": "display_data"
        }
      ],
      "source": [
        "sns.scatterplot(data = subset_apartment, x = 'Area', y = 'Annual_Price')"
      ]
    },
    {
      "cell_type": "markdown",
      "id": "5d653a91",
      "metadata": {
        "id": "5d653a91"
      },
      "source": [
        "Much better. But there are still some lingering problems, in which you'll try to solve in homework. "
      ]
    },
    {
      "cell_type": "markdown",
      "id": "89286055",
      "metadata": {
        "id": "89286055"
      },
      "source": [
        "Question: but in the real world, should we remove outliers so we can get a good correlation score?\n",
        "\n",
        "No. You shouldn't do that. This is what you should do:\n",
        "- Do visualization and exploration to detect the outliers (using plots / pandas profiling)\n",
        "- Report your findings to your manager / external stakeholders\n",
        "- Make them aware of the presence of such outliers (or extreme values)\n",
        "- Discuss what could be done with them - and give clear, strong arguments on why these data points should NOT be included in our analysis (because they're rare and it's not the 'usual' value for apartments)\n",
        "- Hear their feedback, and agree upon something\n",
        "- Move forward with that agreement, now with everyone AWARE of the problem"
      ]
    },
    {
      "cell_type": "markdown",
      "id": "c4a9fc85",
      "metadata": {
        "id": "c4a9fc85"
      },
      "source": [
        "Next we'll learn how to create a correlation heatmap. Let's say we want to know the correlation between more than 2 numerical variables. How should we do it?"
      ]
    },
    {
      "cell_type": "code",
      "execution_count": null,
      "id": "85adddb5",
      "metadata": {
        "id": "85adddb5"
      },
      "outputs": [],
      "source": [
        "apart_numerical_cols = ['Longitude', 'Latitude', 'Area', 'Annual_Price']"
      ]
    },
    {
      "cell_type": "code",
      "execution_count": null,
      "id": "37948ae1",
      "metadata": {
        "id": "37948ae1",
        "outputId": "1e5cbea0-b067-4aa8-cf08-d904f2e42447"
      },
      "outputs": [
        {
          "data": {
            "image/png": "[encoded data removed]",
            "text/plain": [
              "<Figure size 720x720 with 2 Axes>"
            ]
          },
          "metadata": {
            "needs_background": "light"
          },
          "output_type": "display_data"
        }
      ],
      "source": [
        "fig = plt.figure(figsize = (10,10))\n",
        "matrix = np.triu(subset_apartment[apart_numerical_cols].corr())\n",
        "sns.heatmap(subset_apartment[apart_numerical_cols].corr(), center = 0,\n",
        "           fmt='.3f', square = True,\n",
        "           annot = True, linewidth = 0.3)\n",
        "plt.show()"
      ]
    },
    {
      "cell_type": "markdown",
      "id": "5628e787",
      "metadata": {
        "id": "5628e787"
      },
      "source": [
        "### Chi Square Goodness of Fit Test"
      ]
    },
    {
      "cell_type": "markdown",
      "id": "a90417d8",
      "metadata": {
        "id": "a90417d8"
      },
      "source": [
        "H0: Distribusi Apartment di Jakarta adalah:\n",
        "- Jakarta Selatan: 30%\n",
        "- Jakarta Pusat: 30%\n",
        "- Jakarta Barat: 20%\n",
        "- Jakarta Utara: 15%\n",
        "- Jakarta Timur: 5%\n",
        "\n",
        "\n",
        "Hipotesis alternatif: Distribusi Apartment di Jakarta tidaklah mengikuti distribusi ekspektasi di atas"
      ]
    },
    {
      "cell_type": "markdown",
      "id": "56db905d",
      "metadata": {
        "id": "56db905d"
      },
      "source": [
        "#### Step 1: Dapatkan Actual Distribution of Apartment in Jakarta"
      ]
    },
    {
      "cell_type": "code",
      "execution_count": null,
      "id": "0cfdba16",
      "metadata": {
        "id": "0cfdba16"
      },
      "outputs": [],
      "source": [
        "apart_dist_jkt = apartment['Region'].value_counts().reset_index().head(5)"
      ]
    },
    {
      "cell_type": "code",
      "execution_count": null,
      "id": "4a42f7e9",
      "metadata": {
        "id": "4a42f7e9",
        "outputId": "1a2642ee-9dfc-429b-bcdc-4b15267cb6e8"
      },
      "outputs": [
        {
          "ename": "SyntaxError",
          "evalue": "invalid syntax (1371003294.py, line 2)",
          "output_type": "error",
          "traceback": [
            "\u001b[1;36m  File \u001b[1;32m\"C:\\Users\\dartw\\AppData\\Local\\Temp\\ipykernel_15624\\1371003294.py\"\u001b[1;36m, line \u001b[1;32m2\u001b[0m\n\u001b[1;33m    pip install scipy\u001b[0m\n\u001b[1;37m        ^\u001b[0m\n\u001b[1;31mSyntaxError\u001b[0m\u001b[1;31m:\u001b[0m invalid syntax\n"
          ]
        }
      ],
      "source": [
        "apart_dist_jkt\n",
        "pip install scipy"
      ]
    },
    {
      "cell_type": "markdown",
      "id": "c606c770",
      "metadata": {
        "id": "c606c770"
      },
      "source": [
        "#### Step 2: Lengkapi tabel dengan 'expected' distribution"
      ]
    },
    {
      "cell_type": "code",
      "execution_count": null,
      "id": "3b64f9c5",
      "metadata": {
        "id": "3b64f9c5"
      },
      "outputs": [],
      "source": [
        "apart_dist_jkt['Expectation Ratio'] = [0.3, 0.2, 0.3, 0.15, 0.05]\n",
        "apart_dist_jkt['Expectation'] = apart_dist_jkt['Region'].sum() * apart_dist_jkt['Expectation Ratio']"
      ]
    },
    {
      "cell_type": "code",
      "execution_count": null,
      "id": "d00ff4ae",
      "metadata": {
        "id": "d00ff4ae",
        "outputId": "5a06bd15-50bf-4b14-b6e0-145752444d5b"
      },
      "outputs": [
        {
          "data": {
            "text/html": [
              "<div>\n",
              "<style scoped>\n",
              "    .dataframe tbody tr th:only-of-type {\n",
              "        vertical-align: middle;\n",
              "    }\n",
              "\n",
              "    .dataframe tbody tr th {\n",
              "        vertical-align: top;\n",
              "    }\n",
              "\n",
              "    .dataframe thead th {\n",
              "        text-align: right;\n",
              "    }\n",
              "</style>\n",
              "<table border=\"1\" class=\"dataframe\">\n",
              "  <thead>\n",
              "    <tr style=\"text-align: right;\">\n",
              "      <th></th>\n",
              "      <th>index</th>\n",
              "      <th>Region</th>\n",
              "      <th>Expectation Ratio</th>\n",
              "      <th>Expectation</th>\n",
              "    </tr>\n",
              "  </thead>\n",
              "  <tbody>\n",
              "    <tr>\n",
              "      <th>0</th>\n",
              "      <td>Jakarta Selatan</td>\n",
              "      <td>1478</td>\n",
              "      <td>0.30</td>\n",
              "      <td>1409.4</td>\n",
              "    </tr>\n",
              "    <tr>\n",
              "      <th>1</th>\n",
              "      <td>Jakarta Barat</td>\n",
              "      <td>1346</td>\n",
              "      <td>0.20</td>\n",
              "      <td>939.6</td>\n",
              "    </tr>\n",
              "    <tr>\n",
              "      <th>2</th>\n",
              "      <td>Jakarta Pusat</td>\n",
              "      <td>1080</td>\n",
              "      <td>0.30</td>\n",
              "      <td>1409.4</td>\n",
              "    </tr>\n",
              "    <tr>\n",
              "      <th>3</th>\n",
              "      <td>Jakarta Utara</td>\n",
              "      <td>422</td>\n",
              "      <td>0.15</td>\n",
              "      <td>704.7</td>\n",
              "    </tr>\n",
              "    <tr>\n",
              "      <th>4</th>\n",
              "      <td>Jakarta Timur</td>\n",
              "      <td>372</td>\n",
              "      <td>0.05</td>\n",
              "      <td>234.9</td>\n",
              "    </tr>\n",
              "  </tbody>\n",
              "</table>\n",
              "</div>"
            ],
            "text/plain": [
              "             index  Region  Expectation Ratio  Expectation\n",
              "0  Jakarta Selatan    1478               0.30       1409.4\n",
              "1    Jakarta Barat    1346               0.20        939.6\n",
              "2    Jakarta Pusat    1080               0.30       1409.4\n",
              "3    Jakarta Utara     422               0.15        704.7\n",
              "4    Jakarta Timur     372               0.05        234.9"
            ]
          },
          "execution_count": 26,
          "metadata": {},
          "output_type": "execute_result"
        }
      ],
      "source": [
        "apart_dist_jkt"
      ]
    },
    {
      "cell_type": "code",
      "execution_count": null,
      "id": "b23ea5ee",
      "metadata": {
        "id": "b23ea5ee"
      },
      "outputs": [],
      "source": [
        "apart_dist_jkt.columns = ['City', 'Observed', 'ExpRatio', 'Expectation']"
      ]
    },
    {
      "cell_type": "code",
      "execution_count": null,
      "id": "a61fcb78",
      "metadata": {
        "id": "a61fcb78",
        "outputId": "289814ba-4e75-4f98-e712-e16e5a18b652"
      },
      "outputs": [
        {
          "data": {
            "text/html": [
              "<div>\n",
              "<style scoped>\n",
              "    .dataframe tbody tr th:only-of-type {\n",
              "        vertical-align: middle;\n",
              "    }\n",
              "\n",
              "    .dataframe tbody tr th {\n",
              "        vertical-align: top;\n",
              "    }\n",
              "\n",
              "    .dataframe thead th {\n",
              "        text-align: right;\n",
              "    }\n",
              "</style>\n",
              "<table border=\"1\" class=\"dataframe\">\n",
              "  <thead>\n",
              "    <tr style=\"text-align: right;\">\n",
              "      <th></th>\n",
              "      <th>City</th>\n",
              "      <th>Observed</th>\n",
              "      <th>ExpRatio</th>\n",
              "      <th>Expectation</th>\n",
              "    </tr>\n",
              "  </thead>\n",
              "  <tbody>\n",
              "    <tr>\n",
              "      <th>0</th>\n",
              "      <td>Jakarta Selatan</td>\n",
              "      <td>1478</td>\n",
              "      <td>0.30</td>\n",
              "      <td>1409.4</td>\n",
              "    </tr>\n",
              "    <tr>\n",
              "      <th>1</th>\n",
              "      <td>Jakarta Barat</td>\n",
              "      <td>1346</td>\n",
              "      <td>0.20</td>\n",
              "      <td>939.6</td>\n",
              "    </tr>\n",
              "    <tr>\n",
              "      <th>2</th>\n",
              "      <td>Jakarta Pusat</td>\n",
              "      <td>1080</td>\n",
              "      <td>0.30</td>\n",
              "      <td>1409.4</td>\n",
              "    </tr>\n",
              "    <tr>\n",
              "      <th>3</th>\n",
              "      <td>Jakarta Utara</td>\n",
              "      <td>422</td>\n",
              "      <td>0.15</td>\n",
              "      <td>704.7</td>\n",
              "    </tr>\n",
              "    <tr>\n",
              "      <th>4</th>\n",
              "      <td>Jakarta Timur</td>\n",
              "      <td>372</td>\n",
              "      <td>0.05</td>\n",
              "      <td>234.9</td>\n",
              "    </tr>\n",
              "  </tbody>\n",
              "</table>\n",
              "</div>"
            ],
            "text/plain": [
              "              City  Observed  ExpRatio  Expectation\n",
              "0  Jakarta Selatan      1478      0.30       1409.4\n",
              "1    Jakarta Barat      1346      0.20        939.6\n",
              "2    Jakarta Pusat      1080      0.30       1409.4\n",
              "3    Jakarta Utara       422      0.15        704.7\n",
              "4    Jakarta Timur       372      0.05        234.9"
            ]
          },
          "execution_count": 28,
          "metadata": {},
          "output_type": "execute_result"
        }
      ],
      "source": [
        "apart_dist_jkt"
      ]
    },
    {
      "cell_type": "markdown",
      "id": "133bec75",
      "metadata": {
        "id": "133bec75"
      },
      "source": [
        "#### Step 3: Lakukan Chi Square Test"
      ]
    },
    {
      "cell_type": "code",
      "execution_count": null,
      "id": "3da25dc6",
      "metadata": {
        "id": "3da25dc6"
      },
      "outputs": [],
      "source": [
        "from scipy import stats\n",
        "chi_square_test_statistic, p_value = stats.chisquare(apart_dist_jkt['Observed'], apart_dist_jkt['Expectation'])"
      ]
    },
    {
      "cell_type": "code",
      "execution_count": null,
      "id": "b22aaf38",
      "metadata": {
        "id": "b22aaf38",
        "outputId": "2b4ec817-de67-441c-d1f9-30eb4e206ade"
      },
      "outputs": [
        {
          "data": {
            "text/plain": [
              "449.5308641975308"
            ]
          },
          "execution_count": 22,
          "metadata": {},
          "output_type": "execute_result"
        }
      ],
      "source": [
        "chi_square_test_statistic"
      ]
    },
    {
      "cell_type": "code",
      "execution_count": null,
      "id": "ad845be5",
      "metadata": {
        "id": "ad845be5",
        "outputId": "29de5c55-a5f6-4206-8dce-595df652ba46"
      },
      "outputs": [
        {
          "data": {
            "text/plain": [
              "5.486186446797149e-96"
            ]
          },
          "execution_count": 121,
          "metadata": {},
          "output_type": "execute_result"
        }
      ],
      "source": [
        "p_value"
      ]
    },
    {
      "cell_type": "code",
      "execution_count": null,
      "id": "fc7bbfc0",
      "metadata": {
        "id": "fc7bbfc0",
        "outputId": "b13d2206-fe05-4a07-fbb1-37d4095bfa9e"
      },
      "outputs": [
        {
          "data": {
            "text/plain": [
              "True"
            ]
          },
          "execution_count": 30,
          "metadata": {},
          "output_type": "execute_result"
        }
      ],
      "source": [
        "p_value < 0.05"
      ]
    },
    {
      "cell_type": "markdown",
      "id": "4725cf58",
      "metadata": {
        "id": "4725cf58"
      },
      "source": [
        "p-value = 0, artinya kita dapat menolak hipotesis nol. Ternyata distribusi apartment di Jakarta nggak seperti yang kita hipotesiskan. "
      ]
    },
    {
      "cell_type": "markdown",
      "id": "66395ebd",
      "metadata": {
        "id": "66395ebd"
      },
      "source": [
        "### Chi Square Test of Independence"
      ]
    },
    {
      "cell_type": "markdown",
      "id": "9ed9cebf",
      "metadata": {
        "id": "9ed9cebf"
      },
      "source": [
        "This Chi Square Test measures if 2 categorical variables are independent or dependent of each other.\n",
        "\n",
        "If 2 categorical variables are independent of one another, it means that we can conclude that they both does not have a strong relationship.\n",
        "\n",
        "However, if 2 categorical variables are dependent from each other, it means that they have a strong relationship between them."
      ]
    },
    {
      "cell_type": "code",
      "execution_count": null,
      "id": "59ed5517",
      "metadata": {
        "id": "59ed5517"
      },
      "outputs": [],
      "source": [
        "# Importing Extra Packages\n",
        "import scipy.stats as stats\n",
        "from scipy.stats import chi2"
      ]
    },
    {
      "cell_type": "code",
      "execution_count": null,
      "id": "fd668ff9",
      "metadata": {
        "id": "fd668ff9",
        "outputId": "b2d31675-441d-40dc-846b-70795beda51d"
      },
      "outputs": [
        {
          "data": {
            "text/html": [
              "<div>\n",
              "<style scoped>\n",
              "    .dataframe tbody tr th:only-of-type {\n",
              "        vertical-align: middle;\n",
              "    }\n",
              "\n",
              "    .dataframe tbody tr th {\n",
              "        vertical-align: top;\n",
              "    }\n",
              "\n",
              "    .dataframe thead th {\n",
              "        text-align: right;\n",
              "    }\n",
              "</style>\n",
              "<table border=\"1\" class=\"dataframe\">\n",
              "  <thead>\n",
              "    <tr style=\"text-align: right;\">\n",
              "      <th>Sex</th>\n",
              "      <th>female</th>\n",
              "      <th>male</th>\n",
              "    </tr>\n",
              "    <tr>\n",
              "      <th>Survived</th>\n",
              "      <th></th>\n",
              "      <th></th>\n",
              "    </tr>\n",
              "  </thead>\n",
              "  <tbody>\n",
              "    <tr>\n",
              "      <th>0</th>\n",
              "      <td>81</td>\n",
              "      <td>468</td>\n",
              "    </tr>\n",
              "    <tr>\n",
              "      <th>1</th>\n",
              "      <td>231</td>\n",
              "      <td>109</td>\n",
              "    </tr>\n",
              "  </tbody>\n",
              "</table>\n",
              "</div>"
            ],
            "text/plain": [
              "Sex       female  male\n",
              "Survived              \n",
              "0             81   468\n",
              "1            231   109"
            ]
          },
          "execution_count": 122,
          "metadata": {},
          "output_type": "execute_result"
        }
      ],
      "source": [
        "pd.crosstab(titanic['Survived'], titanic['Sex'])"
      ]
    },
    {
      "cell_type": "code",
      "execution_count": null,
      "id": "01a73ca3",
      "metadata": {
        "id": "01a73ca3"
      },
      "outputs": [],
      "source": [
        "def chisq_test(data, target_column, feature_column, alpha = 0.05):\n",
        "    ct = pd.crosstab(data[target_column], data[feature_column])\n",
        "    chisq_stat, pval, deg_of_free, expected = stats.chi2_contingency(ct)\n",
        "    \n",
        "    print(f'Chi Square Test Result Between {target_column} and {feature_column}')\n",
        "    print(f'H0: There is no substantial relationship between the two variables')\n",
        "    print(f'H1: There is a substantial relationship between the two variables')\n",
        "    print('----------')\n",
        "    print('')\n",
        "    print(f'Chi Square Statistic: {chisq_stat:.5g}')\n",
        "    print(f'P-Value: {pval:.5g}')\n",
        "    print(f'Degress of Freedom: {deg_of_free}')\n",
        "    print('')\n",
        "        \n",
        "    if pval > alpha:\n",
        "        print(f'P-Value is greater than alpha ({alpha}), therefore we cannot reject H0.')\n",
        "        print(f'This means, there is no substantial relationship between {target_column} and {feature_column}.')\n",
        "    else:\n",
        "        print(f'P-Value is less than alpha ({alpha}), therefore we can reject H0.')\n",
        "        print(f'We are sure, with {alpha} statistical significance, that there is a substantial relationship between {target_column} and {feature_column}.')\n",
        "        "
      ]
    },
    {
      "cell_type": "code",
      "execution_count": null,
      "id": "59271dcc",
      "metadata": {
        "id": "59271dcc",
        "outputId": "1fea4cfb-1517-47f0-b537-2b67563be28d"
      },
      "outputs": [
        {
          "name": "stdout",
          "output_type": "stream",
          "text": [
            "Chi Square Test Result Between Survived and Sex\n",
            "H0: There is no substantial relationship between the two variables\n",
            "H1: There is a substantial relationship between the two variables\n",
            "----------\n",
            "\n",
            "Chi Square Statistic: 258.43\n",
            "P-Value: 3.7799e-58\n",
            "Degress of Freedom: 1\n",
            "\n",
            "P-Value is less than alpha (0.05), therefore we can reject H0.\n",
            "We are sure, with 0.05 statistical significance, that there is a substantial relationship between Survived and Sex.\n"
          ]
        }
      ],
      "source": [
        "chisq_test(data = titanic, target_column = 'Survived', feature_column = 'Sex')"
      ]
    },
    {
      "cell_type": "code",
      "execution_count": null,
      "id": "f37cb5f1",
      "metadata": {
        "id": "f37cb5f1",
        "outputId": "48afc427-a040-43d5-9143-c45ea3d8c088"
      },
      "outputs": [
        {
          "name": "stdout",
          "output_type": "stream",
          "text": [
            "Chi Square Test Result Between Survived and Age Class\n",
            "H0: There is no substantial relationship between the two variables\n",
            "H1: There is a substantial relationship between the two variables\n",
            "----------\n",
            "\n",
            "Chi Square Statistic: 17.372\n",
            "P-Value: 0.0016362\n",
            "Degress of Freedom: 4\n",
            "\n",
            "P-Value is less than alpha (0.05), therefore we can reject H0.\n",
            "We are sure, with 0.05 statistical significance, that there is a substantial relationship between Survived and Age Class.\n"
          ]
        }
      ],
      "source": [
        "chisq_test(data = titanic, target_column = 'Survived', feature_column = 'Age Class')"
      ]
    },
    {
      "cell_type": "code",
      "execution_count": null,
      "id": "ee400a28",
      "metadata": {
        "id": "ee400a28",
        "outputId": "d4fb8402-cbc9-44cf-9e5b-ee7862179892"
      },
      "outputs": [
        {
          "name": "stdout",
          "output_type": "stream",
          "text": [
            "Chi Square Test Result Between Survived and Class\n",
            "H0: There is no substantial relationship between the two variables\n",
            "H1: There is a substantial relationship between the two variables\n",
            "----------\n",
            "\n",
            "Chi Square Statistic: 100.98\n",
            "P-Value: 1.1814e-22\n",
            "Degress of Freedom: 2\n",
            "\n",
            "P-Value is less than alpha (0.05), therefore we can reject H0.\n",
            "We are sure, with 0.05 statistical significance, that there is a substantial relationship between Survived and Class.\n"
          ]
        }
      ],
      "source": [
        "chisq_test(data = titanic, target_column = 'Survived', feature_column = 'Class')"
      ]
    },
    {
      "cell_type": "markdown",
      "id": "a36cb152",
      "metadata": {
        "id": "a36cb152"
      },
      "source": [
        "Okay. So far we've seen that all of the categorical features have a relationsheep with the target (Survived). What would the test result look like, if we have a completely random / unrelated categorical feature? "
      ]
    },
    {
      "cell_type": "code",
      "execution_count": null,
      "id": "8276c404",
      "metadata": {
        "id": "8276c404"
      },
      "outputs": [],
      "source": [
        "titanic_edit = titanic.copy()"
      ]
    },
    {
      "cell_type": "code",
      "execution_count": null,
      "id": "9dd21293",
      "metadata": {
        "id": "9dd21293"
      },
      "outputs": [],
      "source": [
        "new_list = list(np.random.randint(low = 1,high = 4,size=889))\n",
        "titanic_edit['FavoriteColor'] = new_list"
      ]
    },
    {
      "cell_type": "markdown",
      "id": "677182e7",
      "metadata": {
        "id": "677182e7"
      },
      "source": [
        "Now we have a new column called 'FavoriteColor' in our edited dataset, and this column is completely random. "
      ]
    },
    {
      "cell_type": "code",
      "execution_count": null,
      "id": "019fd355",
      "metadata": {
        "id": "019fd355",
        "outputId": "fc61ca11-397e-403f-af5d-2254540b79fb"
      },
      "outputs": [
        {
          "data": {
            "text/html": [
              "<div>\n",
              "<style scoped>\n",
              "    .dataframe tbody tr th:only-of-type {\n",
              "        vertical-align: middle;\n",
              "    }\n",
              "\n",
              "    .dataframe tbody tr th {\n",
              "        vertical-align: top;\n",
              "    }\n",
              "\n",
              "    .dataframe thead th {\n",
              "        text-align: right;\n",
              "    }\n",
              "</style>\n",
              "<table border=\"1\" class=\"dataframe\">\n",
              "  <thead>\n",
              "    <tr style=\"text-align: right;\">\n",
              "      <th></th>\n",
              "      <th>Survived</th>\n",
              "      <th>Sex</th>\n",
              "      <th>Age</th>\n",
              "      <th>SiblingsSpouse</th>\n",
              "      <th>ParentChildren</th>\n",
              "      <th>Fare</th>\n",
              "      <th>EmbarkedCity</th>\n",
              "      <th>Class</th>\n",
              "      <th>MedianAge</th>\n",
              "      <th>Age Class</th>\n",
              "      <th>FavoriteColor</th>\n",
              "    </tr>\n",
              "  </thead>\n",
              "  <tbody>\n",
              "    <tr>\n",
              "      <th>0</th>\n",
              "      <td>0</td>\n",
              "      <td>male</td>\n",
              "      <td>22.0</td>\n",
              "      <td>1</td>\n",
              "      <td>0</td>\n",
              "      <td>7.2500</td>\n",
              "      <td>S</td>\n",
              "      <td>Third</td>\n",
              "      <td>28.25</td>\n",
              "      <td>Young Adult</td>\n",
              "      <td>3</td>\n",
              "    </tr>\n",
              "    <tr>\n",
              "      <th>1</th>\n",
              "      <td>1</td>\n",
              "      <td>female</td>\n",
              "      <td>38.0</td>\n",
              "      <td>1</td>\n",
              "      <td>0</td>\n",
              "      <td>71.2833</td>\n",
              "      <td>C</td>\n",
              "      <td>First</td>\n",
              "      <td>27.00</td>\n",
              "      <td>Adult</td>\n",
              "      <td>2</td>\n",
              "    </tr>\n",
              "    <tr>\n",
              "      <th>2</th>\n",
              "      <td>1</td>\n",
              "      <td>female</td>\n",
              "      <td>26.0</td>\n",
              "      <td>0</td>\n",
              "      <td>0</td>\n",
              "      <td>7.9250</td>\n",
              "      <td>S</td>\n",
              "      <td>Third</td>\n",
              "      <td>29.00</td>\n",
              "      <td>Young Adult</td>\n",
              "      <td>3</td>\n",
              "    </tr>\n",
              "    <tr>\n",
              "      <th>3</th>\n",
              "      <td>1</td>\n",
              "      <td>female</td>\n",
              "      <td>35.0</td>\n",
              "      <td>1</td>\n",
              "      <td>0</td>\n",
              "      <td>53.1000</td>\n",
              "      <td>S</td>\n",
              "      <td>First</td>\n",
              "      <td>29.00</td>\n",
              "      <td>Adult</td>\n",
              "      <td>1</td>\n",
              "    </tr>\n",
              "    <tr>\n",
              "      <th>4</th>\n",
              "      <td>0</td>\n",
              "      <td>male</td>\n",
              "      <td>35.0</td>\n",
              "      <td>0</td>\n",
              "      <td>0</td>\n",
              "      <td>8.0500</td>\n",
              "      <td>S</td>\n",
              "      <td>Third</td>\n",
              "      <td>28.25</td>\n",
              "      <td>Adult</td>\n",
              "      <td>3</td>\n",
              "    </tr>\n",
              "    <tr>\n",
              "      <th>...</th>\n",
              "      <td>...</td>\n",
              "      <td>...</td>\n",
              "      <td>...</td>\n",
              "      <td>...</td>\n",
              "      <td>...</td>\n",
              "      <td>...</td>\n",
              "      <td>...</td>\n",
              "      <td>...</td>\n",
              "      <td>...</td>\n",
              "      <td>...</td>\n",
              "      <td>...</td>\n",
              "    </tr>\n",
              "    <tr>\n",
              "      <th>884</th>\n",
              "      <td>0</td>\n",
              "      <td>male</td>\n",
              "      <td>27.0</td>\n",
              "      <td>0</td>\n",
              "      <td>0</td>\n",
              "      <td>13.0000</td>\n",
              "      <td>S</td>\n",
              "      <td>Second</td>\n",
              "      <td>28.25</td>\n",
              "      <td>Young Adult</td>\n",
              "      <td>2</td>\n",
              "    </tr>\n",
              "    <tr>\n",
              "      <th>885</th>\n",
              "      <td>1</td>\n",
              "      <td>female</td>\n",
              "      <td>19.0</td>\n",
              "      <td>0</td>\n",
              "      <td>0</td>\n",
              "      <td>30.0000</td>\n",
              "      <td>S</td>\n",
              "      <td>First</td>\n",
              "      <td>29.00</td>\n",
              "      <td>Teen</td>\n",
              "      <td>1</td>\n",
              "    </tr>\n",
              "    <tr>\n",
              "      <th>886</th>\n",
              "      <td>0</td>\n",
              "      <td>female</td>\n",
              "      <td>25.0</td>\n",
              "      <td>1</td>\n",
              "      <td>2</td>\n",
              "      <td>23.4500</td>\n",
              "      <td>S</td>\n",
              "      <td>Third</td>\n",
              "      <td>25.00</td>\n",
              "      <td>Young Adult</td>\n",
              "      <td>2</td>\n",
              "    </tr>\n",
              "    <tr>\n",
              "      <th>887</th>\n",
              "      <td>1</td>\n",
              "      <td>male</td>\n",
              "      <td>26.0</td>\n",
              "      <td>0</td>\n",
              "      <td>0</td>\n",
              "      <td>30.0000</td>\n",
              "      <td>C</td>\n",
              "      <td>First</td>\n",
              "      <td>26.50</td>\n",
              "      <td>Young Adult</td>\n",
              "      <td>1</td>\n",
              "    </tr>\n",
              "    <tr>\n",
              "      <th>888</th>\n",
              "      <td>0</td>\n",
              "      <td>male</td>\n",
              "      <td>32.0</td>\n",
              "      <td>0</td>\n",
              "      <td>0</td>\n",
              "      <td>7.7500</td>\n",
              "      <td>Q</td>\n",
              "      <td>Third</td>\n",
              "      <td>31.00</td>\n",
              "      <td>Adult</td>\n",
              "      <td>1</td>\n",
              "    </tr>\n",
              "  </tbody>\n",
              "</table>\n",
              "<p>889 rows × 11 columns</p>\n",
              "</div>"
            ],
            "text/plain": [
              "     Survived     Sex   Age  SiblingsSpouse  ParentChildren     Fare  \\\n",
              "0           0    male  22.0               1               0   7.2500   \n",
              "1           1  female  38.0               1               0  71.2833   \n",
              "2           1  female  26.0               0               0   7.9250   \n",
              "3           1  female  35.0               1               0  53.1000   \n",
              "4           0    male  35.0               0               0   8.0500   \n",
              "..        ...     ...   ...             ...             ...      ...   \n",
              "884         0    male  27.0               0               0  13.0000   \n",
              "885         1  female  19.0               0               0  30.0000   \n",
              "886         0  female  25.0               1               2  23.4500   \n",
              "887         1    male  26.0               0               0  30.0000   \n",
              "888         0    male  32.0               0               0   7.7500   \n",
              "\n",
              "    EmbarkedCity   Class  MedianAge    Age Class  FavoriteColor  \n",
              "0              S   Third      28.25  Young Adult              3  \n",
              "1              C   First      27.00        Adult              2  \n",
              "2              S   Third      29.00  Young Adult              3  \n",
              "3              S   First      29.00        Adult              1  \n",
              "4              S   Third      28.25        Adult              3  \n",
              "..           ...     ...        ...          ...            ...  \n",
              "884            S  Second      28.25  Young Adult              2  \n",
              "885            S   First      29.00         Teen              1  \n",
              "886            S   Third      25.00  Young Adult              2  \n",
              "887            C   First      26.50  Young Adult              1  \n",
              "888            Q   Third      31.00        Adult              1  \n",
              "\n",
              "[889 rows x 11 columns]"
            ]
          },
          "execution_count": 33,
          "metadata": {},
          "output_type": "execute_result"
        }
      ],
      "source": [
        "titanic_edit"
      ]
    },
    {
      "cell_type": "markdown",
      "id": "12bef681",
      "metadata": {
        "id": "12bef681"
      },
      "source": [
        "Let's transform it into a categorical feature (and not a numerical one)"
      ]
    },
    {
      "cell_type": "code",
      "execution_count": null,
      "id": "7ddf87fd",
      "metadata": {
        "id": "7ddf87fd"
      },
      "outputs": [],
      "source": [
        "color_map = {\n",
        "    1:'Red',\n",
        "    2:'Green',\n",
        "    3:'Blue'\n",
        "}\n",
        "\n",
        "titanic_edit['FavoriteColor'] = titanic_edit['FavoriteColor'].map(color_map)"
      ]
    },
    {
      "cell_type": "code",
      "execution_count": null,
      "id": "fdde7f3a",
      "metadata": {
        "id": "fdde7f3a",
        "outputId": "98c9d55a-f9eb-48bc-8c0a-fa24de953768"
      },
      "outputs": [
        {
          "data": {
            "text/html": [
              "<div>\n",
              "<style scoped>\n",
              "    .dataframe tbody tr th:only-of-type {\n",
              "        vertical-align: middle;\n",
              "    }\n",
              "\n",
              "    .dataframe tbody tr th {\n",
              "        vertical-align: top;\n",
              "    }\n",
              "\n",
              "    .dataframe thead th {\n",
              "        text-align: right;\n",
              "    }\n",
              "</style>\n",
              "<table border=\"1\" class=\"dataframe\">\n",
              "  <thead>\n",
              "    <tr style=\"text-align: right;\">\n",
              "      <th></th>\n",
              "      <th>Survived</th>\n",
              "      <th>Sex</th>\n",
              "      <th>Age</th>\n",
              "      <th>SiblingsSpouse</th>\n",
              "      <th>ParentChildren</th>\n",
              "      <th>Fare</th>\n",
              "      <th>EmbarkedCity</th>\n",
              "      <th>Class</th>\n",
              "      <th>MedianAge</th>\n",
              "      <th>Age Class</th>\n",
              "      <th>FavoriteColor</th>\n",
              "    </tr>\n",
              "  </thead>\n",
              "  <tbody>\n",
              "    <tr>\n",
              "      <th>0</th>\n",
              "      <td>0</td>\n",
              "      <td>male</td>\n",
              "      <td>22.0</td>\n",
              "      <td>1</td>\n",
              "      <td>0</td>\n",
              "      <td>7.2500</td>\n",
              "      <td>S</td>\n",
              "      <td>Third</td>\n",
              "      <td>28.25</td>\n",
              "      <td>Young Adult</td>\n",
              "      <td>Blue</td>\n",
              "    </tr>\n",
              "    <tr>\n",
              "      <th>1</th>\n",
              "      <td>1</td>\n",
              "      <td>female</td>\n",
              "      <td>38.0</td>\n",
              "      <td>1</td>\n",
              "      <td>0</td>\n",
              "      <td>71.2833</td>\n",
              "      <td>C</td>\n",
              "      <td>First</td>\n",
              "      <td>27.00</td>\n",
              "      <td>Adult</td>\n",
              "      <td>Green</td>\n",
              "    </tr>\n",
              "    <tr>\n",
              "      <th>2</th>\n",
              "      <td>1</td>\n",
              "      <td>female</td>\n",
              "      <td>26.0</td>\n",
              "      <td>0</td>\n",
              "      <td>0</td>\n",
              "      <td>7.9250</td>\n",
              "      <td>S</td>\n",
              "      <td>Third</td>\n",
              "      <td>29.00</td>\n",
              "      <td>Young Adult</td>\n",
              "      <td>Blue</td>\n",
              "    </tr>\n",
              "    <tr>\n",
              "      <th>3</th>\n",
              "      <td>1</td>\n",
              "      <td>female</td>\n",
              "      <td>35.0</td>\n",
              "      <td>1</td>\n",
              "      <td>0</td>\n",
              "      <td>53.1000</td>\n",
              "      <td>S</td>\n",
              "      <td>First</td>\n",
              "      <td>29.00</td>\n",
              "      <td>Adult</td>\n",
              "      <td>Red</td>\n",
              "    </tr>\n",
              "    <tr>\n",
              "      <th>4</th>\n",
              "      <td>0</td>\n",
              "      <td>male</td>\n",
              "      <td>35.0</td>\n",
              "      <td>0</td>\n",
              "      <td>0</td>\n",
              "      <td>8.0500</td>\n",
              "      <td>S</td>\n",
              "      <td>Third</td>\n",
              "      <td>28.25</td>\n",
              "      <td>Adult</td>\n",
              "      <td>Blue</td>\n",
              "    </tr>\n",
              "    <tr>\n",
              "      <th>...</th>\n",
              "      <td>...</td>\n",
              "      <td>...</td>\n",
              "      <td>...</td>\n",
              "      <td>...</td>\n",
              "      <td>...</td>\n",
              "      <td>...</td>\n",
              "      <td>...</td>\n",
              "      <td>...</td>\n",
              "      <td>...</td>\n",
              "      <td>...</td>\n",
              "      <td>...</td>\n",
              "    </tr>\n",
              "    <tr>\n",
              "      <th>884</th>\n",
              "      <td>0</td>\n",
              "      <td>male</td>\n",
              "      <td>27.0</td>\n",
              "      <td>0</td>\n",
              "      <td>0</td>\n",
              "      <td>13.0000</td>\n",
              "      <td>S</td>\n",
              "      <td>Second</td>\n",
              "      <td>28.25</td>\n",
              "      <td>Young Adult</td>\n",
              "      <td>Green</td>\n",
              "    </tr>\n",
              "    <tr>\n",
              "      <th>885</th>\n",
              "      <td>1</td>\n",
              "      <td>female</td>\n",
              "      <td>19.0</td>\n",
              "      <td>0</td>\n",
              "      <td>0</td>\n",
              "      <td>30.0000</td>\n",
              "      <td>S</td>\n",
              "      <td>First</td>\n",
              "      <td>29.00</td>\n",
              "      <td>Teen</td>\n",
              "      <td>Red</td>\n",
              "    </tr>\n",
              "    <tr>\n",
              "      <th>886</th>\n",
              "      <td>0</td>\n",
              "      <td>female</td>\n",
              "      <td>25.0</td>\n",
              "      <td>1</td>\n",
              "      <td>2</td>\n",
              "      <td>23.4500</td>\n",
              "      <td>S</td>\n",
              "      <td>Third</td>\n",
              "      <td>25.00</td>\n",
              "      <td>Young Adult</td>\n",
              "      <td>Green</td>\n",
              "    </tr>\n",
              "    <tr>\n",
              "      <th>887</th>\n",
              "      <td>1</td>\n",
              "      <td>male</td>\n",
              "      <td>26.0</td>\n",
              "      <td>0</td>\n",
              "      <td>0</td>\n",
              "      <td>30.0000</td>\n",
              "      <td>C</td>\n",
              "      <td>First</td>\n",
              "      <td>26.50</td>\n",
              "      <td>Young Adult</td>\n",
              "      <td>Red</td>\n",
              "    </tr>\n",
              "    <tr>\n",
              "      <th>888</th>\n",
              "      <td>0</td>\n",
              "      <td>male</td>\n",
              "      <td>32.0</td>\n",
              "      <td>0</td>\n",
              "      <td>0</td>\n",
              "      <td>7.7500</td>\n",
              "      <td>Q</td>\n",
              "      <td>Third</td>\n",
              "      <td>31.00</td>\n",
              "      <td>Adult</td>\n",
              "      <td>Red</td>\n",
              "    </tr>\n",
              "  </tbody>\n",
              "</table>\n",
              "<p>889 rows × 11 columns</p>\n",
              "</div>"
            ],
            "text/plain": [
              "     Survived     Sex   Age  SiblingsSpouse  ParentChildren     Fare  \\\n",
              "0           0    male  22.0               1               0   7.2500   \n",
              "1           1  female  38.0               1               0  71.2833   \n",
              "2           1  female  26.0               0               0   7.9250   \n",
              "3           1  female  35.0               1               0  53.1000   \n",
              "4           0    male  35.0               0               0   8.0500   \n",
              "..        ...     ...   ...             ...             ...      ...   \n",
              "884         0    male  27.0               0               0  13.0000   \n",
              "885         1  female  19.0               0               0  30.0000   \n",
              "886         0  female  25.0               1               2  23.4500   \n",
              "887         1    male  26.0               0               0  30.0000   \n",
              "888         0    male  32.0               0               0   7.7500   \n",
              "\n",
              "    EmbarkedCity   Class  MedianAge    Age Class FavoriteColor  \n",
              "0              S   Third      28.25  Young Adult          Blue  \n",
              "1              C   First      27.00        Adult         Green  \n",
              "2              S   Third      29.00  Young Adult          Blue  \n",
              "3              S   First      29.00        Adult           Red  \n",
              "4              S   Third      28.25        Adult          Blue  \n",
              "..           ...     ...        ...          ...           ...  \n",
              "884            S  Second      28.25  Young Adult         Green  \n",
              "885            S   First      29.00         Teen           Red  \n",
              "886            S   Third      25.00  Young Adult         Green  \n",
              "887            C   First      26.50  Young Adult           Red  \n",
              "888            Q   Third      31.00        Adult           Red  \n",
              "\n",
              "[889 rows x 11 columns]"
            ]
          },
          "execution_count": 35,
          "metadata": {},
          "output_type": "execute_result"
        }
      ],
      "source": [
        "titanic_edit"
      ]
    },
    {
      "cell_type": "code",
      "execution_count": null,
      "id": "809c40f1",
      "metadata": {
        "id": "809c40f1",
        "outputId": "4945bbfd-13c3-498a-8086-7ab30d51910e"
      },
      "outputs": [
        {
          "name": "stdout",
          "output_type": "stream",
          "text": [
            "Chi Square Test Result Between Survived and FavoriteColor\n",
            "H0: There is no substantial relationship between the two variables\n",
            "H1: There is a substantial relationship between the two variables\n",
            "----------\n",
            "\n",
            "Chi Square Statistic: 2.9003\n",
            "P-Value: 0.23453\n",
            "Degress of Freedom: 2\n",
            "\n",
            "P-Value is greater than alpha (0.05), therefore we cannot reject H0.\n",
            "This means, there is no substantial relationship between Survived and FavoriteColor.\n"
          ]
        }
      ],
      "source": [
        "chisq_test(data = titanic_edit, target_column = 'Survived', feature_column = 'FavoriteColor')"
      ]
    },
    {
      "cell_type": "markdown",
      "id": "9e5f46a9",
      "metadata": {
        "id": "9e5f46a9"
      },
      "source": [
        "That's how it would look like if we have a categorical feature with no pattern/relationship with our target variable. "
      ]
    },
    {
      "cell_type": "markdown",
      "id": "b52d74c0",
      "metadata": {
        "id": "b52d74c0"
      },
      "source": [
        "### Linear Regression"
      ]
    },
    {
      "cell_type": "code",
      "execution_count": null,
      "id": "f13b0072",
      "metadata": {
        "id": "f13b0072"
      },
      "outputs": [],
      "source": [
        "from sklearn.linear_model import LinearRegression"
      ]
    },
    {
      "cell_type": "markdown",
      "id": "8eece716",
      "metadata": {
        "id": "8eece716"
      },
      "source": [
        "First, let's define the predictor columns and the target column"
      ]
    },
    {
      "cell_type": "code",
      "execution_count": null,
      "id": "e802571f",
      "metadata": {
        "id": "e802571f"
      },
      "outputs": [],
      "source": [
        "predictor_cols = ['No_Rooms', 'Bathroom', 'Longitude', 'Latitude', 'Furnished', 'Area', 'Total_Facilities']\n",
        "target_col = ['Annual_Price']"
      ]
    },
    {
      "cell_type": "markdown",
      "id": "d169d131",
      "metadata": {
        "id": "d169d131"
      },
      "source": [
        "Let's try doing Linear Regression on the `apartment` dataframe, before subsetting the 4 \"too large\" apartments"
      ]
    },
    {
      "cell_type": "code",
      "execution_count": null,
      "id": "2de27bb5",
      "metadata": {
        "id": "2de27bb5",
        "outputId": "e12fd840-c416-4a9f-a5e7-88528378d604"
      },
      "outputs": [
        {
          "data": {
            "text/plain": [
              "LinearRegression()"
            ]
          },
          "execution_count": 70,
          "metadata": {},
          "output_type": "execute_result"
        }
      ],
      "source": [
        "linreg = LinearRegression()\n",
        "linreg.fit(apartment[predictor_cols], apartment[target_col])"
      ]
    },
    {
      "cell_type": "code",
      "execution_count": null,
      "id": "1ab0fa3e",
      "metadata": {
        "id": "1ab0fa3e",
        "outputId": "81e44fa8-7792-416e-9f90-6b290b216197"
      },
      "outputs": [
        {
          "data": {
            "text/plain": [
              "0.4675557625737612"
            ]
          },
          "execution_count": 73,
          "metadata": {},
          "output_type": "execute_result"
        }
      ],
      "source": [
        "linreg.score(apartment[predictor_cols], apartment[target_col]) #R2 Score"
      ]
    },
    {
      "cell_type": "markdown",
      "id": "4c12c7b7",
      "metadata": {
        "id": "4c12c7b7"
      },
      "source": [
        "Okay, let's try it now with the `subset_apartment` dataframe, given that we have thrown away the 4 apartments that has area over 1000 meter squared"
      ]
    },
    {
      "cell_type": "code",
      "execution_count": null,
      "id": "de14c79c",
      "metadata": {
        "id": "de14c79c",
        "outputId": "fc78e16d-f162-419d-d18d-0cb39c7da6f4"
      },
      "outputs": [
        {
          "data": {
            "text/plain": [
              "0.7239973489431321"
            ]
          },
          "execution_count": 74,
          "metadata": {},
          "output_type": "execute_result"
        }
      ],
      "source": [
        "linreg = LinearRegression()\n",
        "linreg.fit(subset_apartment[predictor_cols], subset_apartment[target_col])\n",
        "linreg.score(subset_apartment[predictor_cols], subset_apartment[target_col])"
      ]
    },
    {
      "cell_type": "markdown",
      "id": "a548b390",
      "metadata": {
        "id": "a548b390"
      },
      "source": [
        "Conclusion: it is true that our linear regression performs better if we exclude data points that are 'abnormal'.\n",
        "\n",
        "But, again, here's a warning:\n",
        "DO NOT remove data just to get a better performance on linear regression. That's cheating. \n",
        "\n",
        "If you remove several data points, REPORT and DISCUSS it first with your leader, your peers, and external stakeholders, and present a CLEAR ARGUMENT on why do you think these 'abnormal' values should not be considered. "
      ]
    }
  ],
  "metadata": {
    "kernelspec": {
      "display_name": "Python 3 (ipykernel)",
      "language": "python",
      "name": "python3"
    },
    "language_info": {
      "codemirror_mode": {
        "name": "ipython",
        "version": 3
      },
      "file_extension": ".py",
      "mimetype": "text/x-python",
      "name": "python",
      "nbconvert_exporter": "python",
      "pygments_lexer": "ipython3",
      "version": "3.9.13"
    },
    "colab": {
      "provenance": [],
      "include_colab_link": true
    }
  },
  "nbformat": 4,
  "nbformat_minor": 5
}