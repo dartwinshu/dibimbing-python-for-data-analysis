{
  "cells": [
    {
      "cell_type": "markdown",
      "metadata": {
        "id": "view-in-github",
        "colab_type": "text"
      },
      "source": [
        "<a href=\"https://colab.research.google.com/github/dartwinshu/dibimbing-python-for-data-analysis/blob/main/Dibimbing%20-%20Python%20for%20Data%20Analysis%20-%20Part%2001.ipynb\" target=\"_parent\"><img src=\"https://colab.research.google.com/assets/colab-badge.svg\" alt=\"Open In Colab\"/></a>"
      ]
    },
    {
      "cell_type": "markdown",
      "id": "e0e99b74",
      "metadata": {
        "id": "e0e99b74"
      },
      "source": [
        "# Hands On Coding with Python"
      ]
    },
    {
      "cell_type": "code",
      "execution_count": null,
      "id": "dc372153",
      "metadata": {
        "id": "dc372153"
      },
      "outputs": [],
      "source": [
        "import pandas as pd\n",
        "import numpy as np\n",
        "import matplotlib.pyplot as plt\n",
        "import seaborn as sns"
      ]
    },
    {
      "cell_type": "markdown",
      "id": "b00d6e3f",
      "metadata": {
        "id": "b00d6e3f"
      },
      "source": [
        "### Variables and Objects"
      ]
    },
    {
      "cell_type": "markdown",
      "id": "fb445ce3",
      "metadata": {
        "id": "fb445ce3"
      },
      "source": [
        "A Python variable is a *symbolic name* that is a reference or pointer to an *object*. Once an object is assigned to a variable, you can refer to the object by that name. But the data itself is still contained within the object."
      ]
    },
    {
      "cell_type": "code",
      "execution_count": null,
      "id": "d573b46a",
      "metadata": {
        "id": "d573b46a"
      },
      "outputs": [],
      "source": [
        "a = 1"
      ]
    },
    {
      "cell_type": "markdown",
      "id": "b2a1fab1",
      "metadata": {
        "id": "b2a1fab1"
      },
      "source": [
        "This assignment creates an *integer object* with the value 1 and assigns the *variable* 'a' to point to that object.\n",
        "\n",
        "Bahasa gampangnya gini.\n",
        "\n",
        "1. Kita buat sebuah object.\n",
        "2. Object ini adalah sebuah bilangan bulat (integer) bernilai 1.\n",
        "3. Terus pas kita mau simpen object yang kita buat ini di memori sistem, kita memberikan dia nama 'a'.\n",
        "4. Biar pas kita mau pake lagi object ini, kita tinggal panggil nama si 'a'."
      ]
    },
    {
      "cell_type": "code",
      "execution_count": null,
      "id": "fadf3d44",
      "metadata": {
        "colab": {
          "base_uri": "https://localhost:8080/"
        },
        "id": "fadf3d44",
        "outputId": "969cb35a-456b-4ef8-b761-04c530234322"
      },
      "outputs": [
        {
          "output_type": "execute_result",
          "data": {
            "text/plain": [
              "int"
            ]
          },
          "metadata": {},
          "execution_count": 3
        }
      ],
      "source": [
        "type(a)"
      ]
    },
    {
      "cell_type": "markdown",
      "id": "8236497a",
      "metadata": {
        "id": "8236497a"
      },
      "source": [
        "By using `type(..)` we can know that the object that variable 'a' points, is an integer."
      ]
    },
    {
      "cell_type": "code",
      "execution_count": null,
      "id": "2cf261fb",
      "metadata": {
        "colab": {
          "base_uri": "https://localhost:8080/"
        },
        "id": "2cf261fb",
        "outputId": "5d67cb48-d338-4d74-823e-dd44cfcf9b65"
      },
      "outputs": [
        {
          "output_type": "execute_result",
          "data": {
            "text/plain": [
              "3"
            ]
          },
          "metadata": {},
          "execution_count": 4
        }
      ],
      "source": [
        "a + 2"
      ]
    },
    {
      "cell_type": "code",
      "execution_count": null,
      "id": "a418d9ca",
      "metadata": {
        "id": "a418d9ca"
      },
      "outputs": [],
      "source": [
        "a = a + 2"
      ]
    },
    {
      "cell_type": "code",
      "execution_count": null,
      "id": "d9d6355a",
      "metadata": {
        "id": "d9d6355a"
      },
      "outputs": [],
      "source": [
        "a = 1"
      ]
    },
    {
      "cell_type": "code",
      "execution_count": null,
      "id": "f405e068",
      "metadata": {
        "colab": {
          "base_uri": "https://localhost:8080/"
        },
        "id": "f405e068",
        "outputId": "92147e0c-60d4-4e01-fd7d-b5980321e7a0"
      },
      "outputs": [
        {
          "output_type": "execute_result",
          "data": {
            "text/plain": [
              "1"
            ]
          },
          "metadata": {},
          "execution_count": 8
        }
      ],
      "source": [
        "a"
      ]
    },
    {
      "cell_type": "markdown",
      "id": "1c1f6943",
      "metadata": {
        "id": "1c1f6943"
      },
      "source": [
        "By running the above cell, we *modify* the object that we used to call 'a'. We add it by '2'. So now, the value of this object is '3'. \n",
        "\n",
        "Then, this object, an integer whose value is 3, is re-assigned to variable 'a'.\n",
        "\n",
        "So, now, the variable 'a' points to an object whose value is 3."
      ]
    },
    {
      "cell_type": "markdown",
      "id": "4329260c",
      "metadata": {
        "id": "4329260c"
      },
      "source": [
        "### A few examples of Data Types"
      ]
    },
    {
      "cell_type": "markdown",
      "id": "1d3f989b",
      "metadata": {
        "id": "1d3f989b"
      },
      "source": [
        "Each 'object' has its own types. Like what we saw earlier, the object '1' is an integer. Python has different data types that allows us to do different things. "
      ]
    },
    {
      "cell_type": "code",
      "execution_count": null,
      "id": "e8e3e6e5",
      "metadata": {
        "colab": {
          "base_uri": "https://localhost:8080/"
        },
        "id": "e8e3e6e5",
        "outputId": "f3b2689a-a4c0-4f70-872b-5aecbb56149a"
      },
      "outputs": [
        {
          "output_type": "execute_result",
          "data": {
            "text/plain": [
              "str"
            ]
          },
          "metadata": {},
          "execution_count": 9
        }
      ],
      "source": [
        "### string, which is usually used to process text data\n",
        "teks_contoh = 'abcdefg'\n",
        "type(teks_contoh)"
      ]
    },
    {
      "cell_type": "code",
      "execution_count": null,
      "id": "8089fed0",
      "metadata": {
        "colab": {
          "base_uri": "https://localhost:8080/"
        },
        "id": "8089fed0",
        "outputId": "5bbbd590-3f7d-48e1-f6c6-6700d0fa848a"
      },
      "outputs": [
        {
          "output_type": "execute_result",
          "data": {
            "text/plain": [
              "list"
            ]
          },
          "metadata": {},
          "execution_count": 10
        }
      ],
      "source": [
        "### list, which is used to store other objects and give them order (urutan berpengaruh)\n",
        "list_contoh = [1,2,3,4,5,6]\n",
        "type(list_contoh)"
      ]
    },
    {
      "cell_type": "markdown",
      "id": "c25500a2",
      "metadata": {
        "id": "c25500a2"
      },
      "source": [
        "List di atas beranggotakan bilangan-bilangan bulat"
      ]
    },
    {
      "cell_type": "code",
      "execution_count": null,
      "id": "9b47b2b1",
      "metadata": {
        "id": "9b47b2b1"
      },
      "outputs": [],
      "source": [
        "list_contoh_2 = ['a', 'b', 'c', 'd', 'e']"
      ]
    },
    {
      "cell_type": "code",
      "execution_count": null,
      "id": "4408f209",
      "metadata": {
        "colab": {
          "base_uri": "https://localhost:8080/",
          "height": 36
        },
        "id": "4408f209",
        "outputId": "d9774f2d-05ec-4ac4-ac19-10c0f0d18a94"
      },
      "outputs": [
        {
          "output_type": "execute_result",
          "data": {
            "text/plain": [
              "'e'"
            ],
            "application/vnd.google.colaboratory.intrinsic+json": {
              "type": "string"
            }
          },
          "metadata": {},
          "execution_count": 16
        }
      ],
      "source": [
        "list_contoh_2[4]"
      ]
    },
    {
      "cell_type": "code",
      "execution_count": null,
      "id": "92a71401",
      "metadata": {
        "colab": {
          "base_uri": "https://localhost:8080/"
        },
        "id": "92a71401",
        "outputId": "b355b82c-bd4e-476e-b50b-6660fb51fd9b"
      },
      "outputs": [
        {
          "output_type": "execute_result",
          "data": {
            "text/plain": [
              "1"
            ]
          },
          "metadata": {},
          "execution_count": 17
        }
      ],
      "source": [
        "list_contoh[0]"
      ]
    },
    {
      "cell_type": "code",
      "execution_count": null,
      "id": "52364fe6",
      "metadata": {
        "colab": {
          "base_uri": "https://localhost:8080/"
        },
        "id": "52364fe6",
        "outputId": "25fc692f-6c40-4c43-8eeb-33b06d67aafc"
      },
      "outputs": [
        {
          "output_type": "execute_result",
          "data": {
            "text/plain": [
              "2"
            ]
          },
          "metadata": {},
          "execution_count": 18
        }
      ],
      "source": [
        "list_contoh[1]"
      ]
    },
    {
      "cell_type": "markdown",
      "id": "32001c86",
      "metadata": {
        "id": "32001c86"
      },
      "source": [
        "Dan kita bisa 'memanggil' anggota-anggota dari list itu menurut INDEX nya (posisi)."
      ]
    },
    {
      "cell_type": "markdown",
      "id": "eb93dba3",
      "metadata": {
        "id": "eb93dba3"
      },
      "source": [
        "Selain itu, kita juga bisa menambahkan sesuatu ke dalam list yang telah dibuat"
      ]
    },
    {
      "cell_type": "code",
      "execution_count": null,
      "id": "1851a9ad",
      "metadata": {
        "colab": {
          "base_uri": "https://localhost:8080/"
        },
        "id": "1851a9ad",
        "outputId": "a9f09eff-8905-4c3d-f980-2f4273bd2009"
      },
      "outputs": [
        {
          "output_type": "execute_result",
          "data": {
            "text/plain": [
              "[1, 2, 3, 4, 5, 6]"
            ]
          },
          "metadata": {},
          "execution_count": 19
        }
      ],
      "source": [
        "list_contoh"
      ]
    },
    {
      "cell_type": "code",
      "execution_count": null,
      "id": "b96fbdc4",
      "metadata": {
        "id": "b96fbdc4"
      },
      "outputs": [],
      "source": [
        "list_contoh.append(10)"
      ]
    },
    {
      "cell_type": "code",
      "execution_count": null,
      "id": "7907e866",
      "metadata": {
        "colab": {
          "base_uri": "https://localhost:8080/"
        },
        "id": "7907e866",
        "outputId": "fa83ee6d-3b05-44c7-ade6-0866b3b1ac92"
      },
      "outputs": [
        {
          "output_type": "execute_result",
          "data": {
            "text/plain": [
              "[1, 2, 3, 4, 5, 6, 10]"
            ]
          },
          "metadata": {},
          "execution_count": 21
        }
      ],
      "source": [
        "list_contoh"
      ]
    },
    {
      "cell_type": "code",
      "execution_count": null,
      "id": "54a22282",
      "metadata": {
        "id": "54a22282"
      },
      "outputs": [],
      "source": [
        "list_contoh.append('abc')"
      ]
    },
    {
      "cell_type": "code",
      "execution_count": null,
      "id": "d234d00c",
      "metadata": {
        "colab": {
          "base_uri": "https://localhost:8080/"
        },
        "id": "d234d00c",
        "outputId": "67803705-a509-4e33-e673-053b097f4c96"
      },
      "outputs": [
        {
          "output_type": "execute_result",
          "data": {
            "text/plain": [
              "[1, 2, 3, 4, 5, 6, 10, 'abc']"
            ]
          },
          "metadata": {},
          "execution_count": 23
        }
      ],
      "source": [
        "list_contoh"
      ]
    },
    {
      "cell_type": "markdown",
      "id": "b5452fd6",
      "metadata": {
        "id": "b5452fd6"
      },
      "source": [
        "Kita menambahkan angka '8' untuk dimasukkan ke dalam list_contoh. \n",
        "\n",
        "Object 'list' yang direfer oleh variabel `list_contoh` pun berubah. Ini tujuannya ada variabel, biar kita bisa ngecek nilai 'terkini' dari masing-masing object yang telah kita buat di masa lampau. Biar kita tau perubahannya. Dan ga usah ngebuat object tersebut dari 0 lagi. Tinggal dipanggil pake 1 nama yang konsisten aja."
      ]
    },
    {
      "cell_type": "code",
      "execution_count": null,
      "id": "e6585c7e",
      "metadata": {
        "id": "e6585c7e"
      },
      "outputs": [],
      "source": [
        "### list can have duplicates in them\n",
        "list_contoh_2 = [1,1,1,1,1,1]"
      ]
    },
    {
      "cell_type": "code",
      "execution_count": null,
      "id": "e27c4006",
      "metadata": {
        "id": "e27c4006"
      },
      "outputs": [],
      "source": [
        "### set, himpunan. Berbeda dari list, set nggak boleh ada komponen duplikat. \n",
        "### tapi, di dalam himpunan, tidak ada urutan"
      ]
    },
    {
      "cell_type": "code",
      "execution_count": null,
      "id": "35d9cb2e",
      "metadata": {
        "id": "35d9cb2e"
      },
      "outputs": [],
      "source": [
        "set_contoh = set(['d','i','b','i','m','b','i','n','g'])"
      ]
    },
    {
      "cell_type": "code",
      "execution_count": null,
      "id": "a7a1a3a9",
      "metadata": {
        "colab": {
          "base_uri": "https://localhost:8080/"
        },
        "id": "a7a1a3a9",
        "outputId": "59d15bb6-9970-426b-ade8-f34db7c02d04"
      },
      "outputs": [
        {
          "output_type": "execute_result",
          "data": {
            "text/plain": [
              "{'b', 'd', 'g', 'i', 'm', 'n'}"
            ]
          },
          "metadata": {},
          "execution_count": 31
        }
      ],
      "source": [
        "set_contoh"
      ]
    },
    {
      "cell_type": "code",
      "execution_count": null,
      "id": "78150161",
      "metadata": {
        "colab": {
          "base_uri": "https://localhost:8080/",
          "height": 165
        },
        "id": "78150161",
        "outputId": "4054dc85-5f0f-4d43-bb46-b3a3cd43163f"
      },
      "outputs": [
        {
          "output_type": "error",
          "ename": "TypeError",
          "evalue": "ignored",
          "traceback": [
            "\u001b[0;31m---------------------------------------------------------------------------\u001b[0m",
            "\u001b[0;31mTypeError\u001b[0m                                 Traceback (most recent call last)",
            "\u001b[0;32m<ipython-input-28-7627ecdd11a3>\u001b[0m in \u001b[0;36m<module>\u001b[0;34m\u001b[0m\n\u001b[0;32m----> 1\u001b[0;31m \u001b[0mset_contoh\u001b[0m\u001b[0;34m[\u001b[0m\u001b[0;36m0\u001b[0m\u001b[0;34m]\u001b[0m\u001b[0;34m\u001b[0m\u001b[0;34m\u001b[0m\u001b[0m\n\u001b[0m",
            "\u001b[0;31mTypeError\u001b[0m: 'set' object is not subscriptable"
          ]
        }
      ],
      "source": [
        "set_contoh[0]"
      ]
    },
    {
      "cell_type": "markdown",
      "id": "564f9ba6",
      "metadata": {
        "id": "564f9ba6"
      },
      "source": [
        "Another important data type is called dictionary in which we can store KEYS and Values.\n",
        "\n",
        "Waduh, dictionary apa lagi tuh.\n",
        "\n",
        "Udah, anggep aja 'kamus'. \n",
        "\n",
        "Di kamus kan ada katanya, dan ada definisinya. \n",
        "\n",
        "Sama, dictionary juga begitu cara kerjanya. Begini."
      ]
    },
    {
      "cell_type": "code",
      "execution_count": null,
      "id": "e3c49e63",
      "metadata": {
        "id": "e3c49e63"
      },
      "outputs": [],
      "source": [
        "daftar_harga = {'biru':10000, 'merah':12500, 'hijau':8500}"
      ]
    },
    {
      "cell_type": "code",
      "execution_count": null,
      "id": "5a6153d8",
      "metadata": {
        "colab": {
          "base_uri": "https://localhost:8080/"
        },
        "id": "5a6153d8",
        "outputId": "015ea688-f4a2-455b-cfc7-0083f3db606e"
      },
      "outputs": [
        {
          "output_type": "execute_result",
          "data": {
            "text/plain": [
              "8500"
            ]
          },
          "metadata": {},
          "execution_count": 30
        }
      ],
      "source": [
        "daftar_harga['hijau']"
      ]
    },
    {
      "cell_type": "code",
      "execution_count": null,
      "id": "67f168fb",
      "metadata": {
        "id": "67f168fb"
      },
      "outputs": [],
      "source": [
        "daftar_harga = {\n",
        "    'biru':10000,\n",
        "    'merah':12500,\n",
        "    'hijau':8500,\n",
        "}\n",
        "\n",
        "warna_belanjaan = ['hijau', 'hijau', 'biru', 'merah', 'merah', 'biru', 'hijau']"
      ]
    },
    {
      "cell_type": "code",
      "execution_count": null,
      "id": "20f93a8c",
      "metadata": {
        "colab": {
          "base_uri": "https://localhost:8080/"
        },
        "id": "20f93a8c",
        "outputId": "83f4062a-673b-46fd-d8d8-b95bda529be4"
      },
      "outputs": [
        {
          "output_type": "execute_result",
          "data": {
            "text/plain": [
              "['biru', 'merah', 'hijau']"
            ]
          },
          "metadata": {},
          "execution_count": 33
        }
      ],
      "source": [
        "list(daftar_harga.keys())"
      ]
    },
    {
      "cell_type": "code",
      "execution_count": null,
      "id": "58333444",
      "metadata": {
        "colab": {
          "base_uri": "https://localhost:8080/"
        },
        "id": "58333444",
        "outputId": "518e977b-0e83-4660-8066-bbb06586f427"
      },
      "outputs": [
        {
          "output_type": "execute_result",
          "data": {
            "text/plain": [
              "[10000, 12500, 8500]"
            ]
          },
          "metadata": {},
          "execution_count": 34
        }
      ],
      "source": [
        "list(daftar_harga.values())"
      ]
    },
    {
      "cell_type": "code",
      "execution_count": null,
      "id": "b954dbb8",
      "metadata": {
        "colab": {
          "base_uri": "https://localhost:8080/"
        },
        "id": "b954dbb8",
        "outputId": "fee28ecd-ca13-4dcd-8041-138752d9f290"
      },
      "outputs": [
        {
          "output_type": "execute_result",
          "data": {
            "text/plain": [
              "[8500, 8500, 10000, 12500, 12500, 10000, 8500]"
            ]
          },
          "metadata": {},
          "execution_count": 35
        }
      ],
      "source": [
        "harga_list = [daftar_harga[x] for x in warna_belanjaan]\n",
        "harga_list"
      ]
    },
    {
      "cell_type": "code",
      "execution_count": null,
      "id": "5fd584b3",
      "metadata": {
        "colab": {
          "base_uri": "https://localhost:8080/"
        },
        "id": "5fd584b3",
        "outputId": "8a0b294f-7cb4-440d-a278-a50741d453f6"
      },
      "outputs": [
        {
          "output_type": "execute_result",
          "data": {
            "text/plain": [
              "70500"
            ]
          },
          "metadata": {},
          "execution_count": 36
        }
      ],
      "source": [
        "total_harga = sum(harga_list)\n",
        "total_harga"
      ]
    },
    {
      "cell_type": "markdown",
      "id": "5cdba6d8",
      "metadata": {
        "id": "5cdba6d8"
      },
      "source": [
        "### Dictionary and List"
      ]
    },
    {
      "cell_type": "markdown",
      "id": "f19f8528",
      "metadata": {
        "id": "f19f8528"
      },
      "source": [
        "Kita bikin dictionary yang berisi nama ibu guru, dan murid-murid dalam kelasnya."
      ]
    },
    {
      "cell_type": "code",
      "execution_count": null,
      "id": "a9e3eadc",
      "metadata": {
        "id": "a9e3eadc"
      },
      "outputs": [],
      "source": [
        "daftar_wali_kelas = {\n",
        "    'Ibu A':['Alex', 'Amir'],\n",
        "    'Ibu B':['Budi', 'Bond'],\n",
        "    'Ibu C':['Charles', 'Charlie', 'Chelsea'],\n",
        "    'Ibu D':['Doni', 'Dani', 'Dea', 'Deandra']\n",
        "}"
      ]
    },
    {
      "cell_type": "markdown",
      "id": "d2d80a5a",
      "metadata": {
        "id": "d2d80a5a"
      },
      "source": [
        "Siapa saja murid-murid dalam kelas 'Ibu D'?"
      ]
    },
    {
      "cell_type": "code",
      "execution_count": null,
      "id": "2300d9c4",
      "metadata": {
        "colab": {
          "base_uri": "https://localhost:8080/"
        },
        "id": "2300d9c4",
        "outputId": "16ed1215-8b70-4c37-f488-3f77cb5242a2"
      },
      "outputs": [
        {
          "output_type": "execute_result",
          "data": {
            "text/plain": [
              "['Doni', 'Dani', 'Dea', 'Deandra']"
            ]
          },
          "metadata": {},
          "execution_count": 38
        }
      ],
      "source": [
        "daftar_wali_kelas['Ibu D']"
      ]
    },
    {
      "cell_type": "markdown",
      "id": "ed04074e",
      "metadata": {
        "id": "ed04074e"
      },
      "source": [
        "### Dictionary within Dictionary"
      ]
    },
    {
      "cell_type": "code",
      "execution_count": null,
      "id": "5eec3eee",
      "metadata": {
        "id": "5eec3eee"
      },
      "outputs": [],
      "source": [
        "product_details = {\n",
        "    'Product A': {'name':'iPhone 14', 'ram': 6, 'camera': 2},\n",
        "    'Product B': {'name':'MacBook Air', 'ram':8, 'USB-ports':2},\n",
        "    'Product C': {'name':'Casio Calculator', 'language':['Indonesia', 'English'], 'power':['Battery', 'Solar']},\n",
        "    'Product D': {'name':'iPhone Case', 'color':{'Red', 'Green', 'White', 'Blue'}}\n",
        "}"
      ]
    },
    {
      "cell_type": "code",
      "execution_count": null,
      "id": "bad49404",
      "metadata": {
        "colab": {
          "base_uri": "https://localhost:8080/",
          "height": 36
        },
        "id": "bad49404",
        "outputId": "40de26c3-49cc-448c-d7cf-616a6fc7acf0"
      },
      "outputs": [
        {
          "output_type": "execute_result",
          "data": {
            "text/plain": [
              "'iPhone 14'"
            ],
            "application/vnd.google.colaboratory.intrinsic+json": {
              "type": "string"
            }
          },
          "metadata": {},
          "execution_count": 40
        }
      ],
      "source": [
        "product_details['Product A']['name']"
      ]
    },
    {
      "cell_type": "code",
      "execution_count": null,
      "id": "06b9da1d",
      "metadata": {
        "colab": {
          "base_uri": "https://localhost:8080/"
        },
        "id": "06b9da1d",
        "outputId": "304dfec3-df21-4347-cefa-72629ba4195b"
      },
      "outputs": [
        {
          "output_type": "execute_result",
          "data": {
            "text/plain": [
              "{'Blue', 'Green', 'Red', 'White'}"
            ]
          },
          "metadata": {},
          "execution_count": 41
        }
      ],
      "source": [
        "product_details['Product D']['color']"
      ]
    },
    {
      "cell_type": "code",
      "execution_count": null,
      "id": "24b9d19b",
      "metadata": {
        "colab": {
          "base_uri": "https://localhost:8080/"
        },
        "id": "24b9d19b",
        "outputId": "6e8a9009-c3a4-4528-ca6c-49446d071944"
      },
      "outputs": [
        {
          "output_type": "execute_result",
          "data": {
            "text/plain": [
              "['Indonesia', 'English']"
            ]
          },
          "metadata": {},
          "execution_count": 42
        }
      ],
      "source": [
        "product_details['Product C']['language']"
      ]
    },
    {
      "cell_type": "markdown",
      "id": "bade48b9",
      "metadata": {
        "id": "bade48b9"
      },
      "source": [
        "### Printing and its Confusion"
      ]
    },
    {
      "cell_type": "markdown",
      "id": "c6f9cc88",
      "metadata": {
        "id": "c6f9cc88"
      },
      "source": [
        "In jupyter notebook, printing an object might cause confusion to a lot of newbies."
      ]
    },
    {
      "cell_type": "markdown",
      "id": "bfb72a46",
      "metadata": {
        "id": "bfb72a46"
      },
      "source": [
        "If you don't use `print` function, it will automatically output the last line of code"
      ]
    },
    {
      "cell_type": "code",
      "execution_count": null,
      "id": "9a61b8bb",
      "metadata": {
        "colab": {
          "base_uri": "https://localhost:8080/"
        },
        "id": "9a61b8bb",
        "outputId": "fec2abcf-41f9-44a1-8c9e-1fc4d7a5b9f6"
      },
      "outputs": [
        {
          "output_type": "execute_result",
          "data": {
            "text/plain": [
              "2"
            ]
          },
          "metadata": {},
          "execution_count": 46
        }
      ],
      "source": [
        "1+1"
      ]
    },
    {
      "cell_type": "code",
      "execution_count": null,
      "id": "aa34b44f",
      "metadata": {
        "colab": {
          "base_uri": "https://localhost:8080/"
        },
        "id": "aa34b44f",
        "outputId": "02d1a99f-fa1c-4a43-958b-4778aecfa9ed"
      },
      "outputs": [
        {
          "output_type": "execute_result",
          "data": {
            "text/plain": [
              "7"
            ]
          },
          "metadata": {},
          "execution_count": 44
        }
      ],
      "source": [
        "1+2\n",
        "2+3\n",
        "3+4"
      ]
    },
    {
      "cell_type": "markdown",
      "id": "b1ee0352",
      "metadata": {
        "id": "b1ee0352"
      },
      "source": [
        "If you want to output everything..then you have to write `print`"
      ]
    },
    {
      "cell_type": "code",
      "execution_count": null,
      "id": "47e273bb",
      "metadata": {
        "colab": {
          "base_uri": "https://localhost:8080/"
        },
        "id": "47e273bb",
        "outputId": "1f29db17-0e88-44e5-f0d7-bc91a6333abb"
      },
      "outputs": [
        {
          "output_type": "stream",
          "name": "stdout",
          "text": [
            "3\n"
          ]
        },
        {
          "output_type": "execute_result",
          "data": {
            "text/plain": [
              "7"
            ]
          },
          "metadata": {},
          "execution_count": 47
        }
      ],
      "source": [
        "print(1+2)\n",
        "2+3\n",
        "3+4"
      ]
    },
    {
      "cell_type": "markdown",
      "id": "e670770d",
      "metadata": {
        "id": "e670770d"
      },
      "source": [
        "Look, that one in the middle, that does not have `print`, did not get 'printed'"
      ]
    },
    {
      "cell_type": "markdown",
      "id": "2a69e79d",
      "metadata": {
        "id": "2a69e79d"
      },
      "source": [
        "### Methods and Functions"
      ]
    },
    {
      "cell_type": "markdown",
      "id": "5fca73d8",
      "metadata": {
        "id": "5fca73d8"
      },
      "source": [
        "Simply said, functions are a set of instruction which are wrapped by a name, so we can call it anytime, and it saved us from writing everything from scratch."
      ]
    },
    {
      "cell_type": "code",
      "execution_count": null,
      "id": "7209cbf7",
      "metadata": {
        "colab": {
          "base_uri": "https://localhost:8080/"
        },
        "id": "7209cbf7",
        "outputId": "6ca7bd84-7e92-4d6a-e961-9a372dc04efa"
      },
      "outputs": [
        {
          "output_type": "execute_result",
          "data": {
            "text/plain": [
              "[1, 2, 3, 4, 5, 6, 10, 'abc']"
            ]
          },
          "metadata": {},
          "execution_count": 48
        }
      ],
      "source": [
        "list_contoh"
      ]
    },
    {
      "cell_type": "code",
      "execution_count": null,
      "id": "33d3d57d",
      "metadata": {
        "colab": {
          "base_uri": "https://localhost:8080/"
        },
        "id": "33d3d57d",
        "outputId": "f730ac5b-6c89-4fcf-d4e0-5e199a79dd66"
      },
      "outputs": [
        {
          "output_type": "execute_result",
          "data": {
            "text/plain": [
              "8"
            ]
          },
          "metadata": {},
          "execution_count": 49
        }
      ],
      "source": [
        "len(list_contoh)"
      ]
    },
    {
      "cell_type": "markdown",
      "id": "c1afd157",
      "metadata": {
        "id": "c1afd157"
      },
      "source": [
        "Some functions are built in, like `len`. Len will measure the length of the input object, and give us the 'length' of that object."
      ]
    },
    {
      "cell_type": "code",
      "execution_count": null,
      "id": "03fc9464",
      "metadata": {
        "colab": {
          "base_uri": "https://localhost:8080/"
        },
        "id": "03fc9464",
        "outputId": "81006a13-03ee-4a97-a77f-62a108c47205"
      },
      "outputs": [
        {
          "output_type": "execute_result",
          "data": {
            "text/plain": [
              "[1, 2, 3, 4, 5, 6, 10, 'abc']"
            ]
          },
          "metadata": {},
          "execution_count": 50
        }
      ],
      "source": [
        "list_contoh"
      ]
    },
    {
      "cell_type": "markdown",
      "id": "0b3160e9",
      "metadata": {
        "id": "0b3160e9"
      },
      "source": [
        "See? There are indeed 7 members in the `list_contoh`. So, the length is 7. So, the function `len` outputs a value of 7, when we give `list_contoh` as the input."
      ]
    },
    {
      "cell_type": "markdown",
      "id": "3d5bb926",
      "metadata": {
        "id": "3d5bb926"
      },
      "source": [
        "Some functions can also be custom-made. Most of us will do this in our career, so get used to write functions!"
      ]
    },
    {
      "cell_type": "code",
      "execution_count": null,
      "id": "0cfc54e2",
      "metadata": {
        "id": "0cfc54e2"
      },
      "outputs": [],
      "source": [
        "def luas_keliling(panjang, lebar):\n",
        "    luas = panjang * lebar\n",
        "    keliling = 2 * (panjang + lebar)\n",
        "    return luas, keliling"
      ]
    },
    {
      "cell_type": "code",
      "execution_count": null,
      "id": "5ef82a86",
      "metadata": {
        "colab": {
          "base_uri": "https://localhost:8080/"
        },
        "id": "5ef82a86",
        "outputId": "3d3dc7df-e6e8-4d65-c3b3-0a9eaf5f10e1"
      },
      "outputs": [
        {
          "output_type": "execute_result",
          "data": {
            "text/plain": [
              "(20, 18)"
            ]
          },
          "metadata": {},
          "execution_count": 52
        }
      ],
      "source": [
        "p = 5\n",
        "l = 4\n",
        "luas_keliling(panjang = p, lebar = l)"
      ]
    },
    {
      "cell_type": "code",
      "execution_count": null,
      "id": "553cd128",
      "metadata": {
        "colab": {
          "base_uri": "https://localhost:8080/"
        },
        "id": "553cd128",
        "outputId": "14cdfaf2-2a90-4c9f-d6ea-7dc38380640c"
      },
      "outputs": [
        {
          "output_type": "execute_result",
          "data": {
            "text/plain": [
              "(24, 22)"
            ]
          },
          "metadata": {},
          "execution_count": 53
        }
      ],
      "source": [
        "p = 8\n",
        "l = 3\n",
        "luas_keliling(panjang = p, lebar = l)"
      ]
    },
    {
      "cell_type": "code",
      "execution_count": null,
      "id": "01a57147",
      "metadata": {
        "colab": {
          "base_uri": "https://localhost:8080/"
        },
        "id": "01a57147",
        "outputId": "9cf6335d-a3e4-4c5c-b352-584f39ddf0c3"
      },
      "outputs": [
        {
          "output_type": "execute_result",
          "data": {
            "text/plain": [
              "(36, 26)"
            ]
          },
          "metadata": {},
          "execution_count": 54
        }
      ],
      "source": [
        "luas_keliling(9,4)"
      ]
    },
    {
      "cell_type": "markdown",
      "id": "43ef6d0b",
      "metadata": {
        "id": "43ef6d0b"
      },
      "source": [
        "Let's study this function.\n",
        "\n",
        "This function takes in two inputs. \n",
        "\n",
        "- Input pertama, itu diberi variabel `panjang`. Pemberian nama `panjang` ini sementara doang, cuma dipake pas lagi nge-run fungsinya. \n",
        "- Input kedua, itu diberi variabel `lebar`.\n",
        "\n",
        "Nantinya, si input pertama dan kedua ini dikalikan...jadilah object baru yang diberi variabel `luas`.\n",
        "\n",
        "Setelah itu, dihitung `keliling`nya.\n",
        "\n",
        "Akhirnya, fungsi ini menggunakan kata `return`. \n",
        "\n",
        "Artinya, setelah selesai menghitung, ada 2 object yang fungsi ini akan *kembalikan* ke kita, yaitu berupa luas, dan keliling."
      ]
    },
    {
      "cell_type": "code",
      "execution_count": null,
      "id": "38710fb1",
      "metadata": {
        "colab": {
          "base_uri": "https://localhost:8080/"
        },
        "id": "38710fb1",
        "outputId": "2df4feec-220c-4ad9-ab06-afdf9142d7e0"
      },
      "outputs": [
        {
          "output_type": "execute_result",
          "data": {
            "text/plain": [
              "(21, 20)"
            ]
          },
          "metadata": {},
          "execution_count": 55
        }
      ],
      "source": [
        "luas_keliling(7,3)"
      ]
    },
    {
      "cell_type": "markdown",
      "id": "2a2abbf9",
      "metadata": {
        "id": "2a2abbf9"
      },
      "source": [
        "Artinya, untuk persegi panjang yang panjangnya 7 dan lebarnya 3, luasnya 21, lebarnya 20.\n",
        "\n",
        "Ingat posisinya! panjang itu input pertama, lebar itu input kedua.\n",
        "\n",
        "Pas di-return, yang pertama itu luas, baru keliling!"
      ]
    },
    {
      "cell_type": "markdown",
      "id": "fc74a508",
      "metadata": {
        "id": "fc74a508"
      },
      "source": [
        "Gimana cara kita 'nyimpen' value yang di-return?"
      ]
    },
    {
      "cell_type": "code",
      "execution_count": null,
      "id": "285dcceb",
      "metadata": {
        "id": "285dcceb"
      },
      "outputs": [],
      "source": [
        "jawaban_l, jawaban_k = luas_keliling(7, 4)"
      ]
    },
    {
      "cell_type": "code",
      "execution_count": null,
      "id": "2eb5f543",
      "metadata": {
        "colab": {
          "base_uri": "https://localhost:8080/"
        },
        "id": "2eb5f543",
        "outputId": "38752cf7-707c-4442-c608-20143facd1e2"
      },
      "outputs": [
        {
          "output_type": "stream",
          "name": "stdout",
          "text": [
            "28\n",
            "22\n"
          ]
        }
      ],
      "source": [
        "print(jawaban_l)\n",
        "print(jawaban_k)"
      ]
    },
    {
      "cell_type": "markdown",
      "id": "04799bf1",
      "metadata": {
        "id": "04799bf1"
      },
      "source": [
        "Ga mau nyimpen value ah, maunya ngeprint aja. Gimana dong? \n",
        "\n",
        "Bisa!"
      ]
    },
    {
      "cell_type": "code",
      "execution_count": null,
      "id": "355913c3",
      "metadata": {
        "id": "355913c3"
      },
      "outputs": [],
      "source": [
        "def luas_keliling(panjang, lebar):\n",
        "    luas = panjang * lebar\n",
        "    keliling = 2*(panjang+lebar)\n",
        "    \n",
        "    print('Luas persegi panjang:', luas)\n",
        "    print('Keliling persegi panjang:', keliling)"
      ]
    },
    {
      "cell_type": "code",
      "execution_count": null,
      "id": "32ffa201",
      "metadata": {
        "colab": {
          "base_uri": "https://localhost:8080/"
        },
        "id": "32ffa201",
        "outputId": "dee0a565-f35b-4a5f-f07d-e09e2c2b17ad"
      },
      "outputs": [
        {
          "output_type": "stream",
          "name": "stdout",
          "text": [
            "Luas persegi panjang: 21\n",
            "Keliling persegi panjang: 20\n"
          ]
        }
      ],
      "source": [
        "luas_keliling(7, 3)"
      ]
    },
    {
      "cell_type": "markdown",
      "id": "ebe04013",
      "metadata": {
        "id": "ebe04013"
      },
      "source": [
        "Kalo mau disimpen dan diprint gimana?"
      ]
    },
    {
      "cell_type": "code",
      "execution_count": null,
      "id": "26b8096d",
      "metadata": {
        "id": "26b8096d"
      },
      "outputs": [],
      "source": [
        "def luas_keliling(panjang, lebar):\n",
        "    luas = panjang * lebar\n",
        "    keliling = 2*(panjang+lebar)\n",
        "    \n",
        "    print('Luas persegi panjang:', luas)\n",
        "    print('Keliling persegi panjang:', keliling)\n",
        "    \n",
        "    return luas, keliling"
      ]
    },
    {
      "cell_type": "code",
      "execution_count": null,
      "id": "9644f000",
      "metadata": {
        "colab": {
          "base_uri": "https://localhost:8080/"
        },
        "id": "9644f000",
        "outputId": "62a6d87d-6d30-4dfa-d4df-1ebb3dcdcd7a"
      },
      "outputs": [
        {
          "output_type": "stream",
          "name": "stdout",
          "text": [
            "Luas persegi panjang: 36\n",
            "Keliling persegi panjang: 26\n"
          ]
        }
      ],
      "source": [
        "jawaban_luas, jawaban_keliling = luas_keliling(9,4)"
      ]
    },
    {
      "cell_type": "code",
      "execution_count": null,
      "id": "6bfb6bb5",
      "metadata": {
        "colab": {
          "base_uri": "https://localhost:8080/"
        },
        "id": "6bfb6bb5",
        "outputId": "cae834fc-a4c1-472e-9082-8954bcd38a60"
      },
      "outputs": [
        {
          "output_type": "stream",
          "name": "stdout",
          "text": [
            "36\n"
          ]
        }
      ],
      "source": [
        "print(jawaban_luas)"
      ]
    },
    {
      "cell_type": "markdown",
      "id": "af94c10f",
      "metadata": {
        "id": "af94c10f"
      },
      "source": [
        "Fungsi yang lengkap"
      ]
    },
    {
      "cell_type": "code",
      "execution_count": null,
      "id": "a8b0e47d",
      "metadata": {
        "id": "a8b0e47d"
      },
      "outputs": [],
      "source": [
        "a = 1\n",
        "b = 2"
      ]
    },
    {
      "cell_type": "markdown",
      "id": "d7da83d6",
      "metadata": {
        "id": "d7da83d6"
      },
      "source": []
    },
    {
      "cell_type": "code",
      "execution_count": null,
      "id": "c4e8260b",
      "metadata": {
        "id": "c4e8260b"
      },
      "outputs": [],
      "source": [
        "def luas_keliling(panjang, lebar):\n",
        "    \"\"\"\n",
        "    Fungsi ini menerima dua input, yaitu panjang dan lebar.\n",
        "    Jika panjang lebih pendek daripada lebar, maka kedua nilai tersebut akan saling ditukar.\n",
        "    Setelah itu, luas dan keliling persegi panjang akan dihitung.\n",
        "    Pada akhirnya, nilai luas dan keliling akan diprint, dan direturn, dengan urutan luas dulu baru keliling.\n",
        "    \"\"\"    \n",
        "    \n",
        "    if panjang < lebar: \n",
        "        lebar, panjang = panjang, lebar\n",
        "        print('Waduh! Kok panjang lebih pendek daripada lebar. Kita switch ya!')\n",
        "    else:\n",
        "        pass\n",
        "        \n",
        "    luas = panjang * lebar\n",
        "    keliling = 2*(panjang + lebar)\n",
        "    \n",
        "    print(f'Luas persegi panjang yang memiliki panjang {panjang} dan lebar {lebar} adalah {luas}')\n",
        "    print(f'Keliling persegi panjang yang memiliki panjang {panjang} dan lebar {lebar} adalah {keliling}')\n",
        "    \n",
        "    return luas, keliling\n",
        "        "
      ]
    },
    {
      "cell_type": "code",
      "execution_count": null,
      "id": "78f1a1be",
      "metadata": {
        "colab": {
          "base_uri": "https://localhost:8080/"
        },
        "id": "78f1a1be",
        "outputId": "be1ed227-6bd7-46dc-aae4-f4e4f8e2dade"
      },
      "outputs": [
        {
          "output_type": "stream",
          "name": "stdout",
          "text": [
            "Waduh! Kok panjang lebih pendek daripada lebar. Kita switch ya!\n",
            "Luas persegi panjang yang memiliki panjang 5 dan lebar 3 adalah 15\n",
            "Keliling persegi panjang yang memiliki panjang 5 dan lebar 3 adalah 16\n"
          ]
        }
      ],
      "source": [
        "luas_pp, keliling_pp = luas_keliling(3, 5)"
      ]
    },
    {
      "cell_type": "code",
      "execution_count": null,
      "id": "afab4b08",
      "metadata": {
        "colab": {
          "base_uri": "https://localhost:8080/"
        },
        "id": "afab4b08",
        "outputId": "4874cc28-91b0-4642-f50c-866596d94baf"
      },
      "outputs": [
        {
          "output_type": "stream",
          "name": "stdout",
          "text": [
            "Luas persegi panjang yang memiliki panjang 8 dan lebar 5 adalah 40\n",
            "Keliling persegi panjang yang memiliki panjang 8 dan lebar 5 adalah 26\n"
          ]
        }
      ],
      "source": [
        "luas_pp, keliling_pp = luas_keliling(8, 5)"
      ]
    },
    {
      "cell_type": "code",
      "execution_count": null,
      "id": "b80f4ff0",
      "metadata": {
        "id": "b80f4ff0"
      },
      "outputs": [],
      "source": [
        "def fungsi_banyak_input(input_1, input_2, input_3, input_4, input_5, input_6):\n",
        "    return input_6, input_5, input_4, input_3, input_2, input_1"
      ]
    },
    {
      "cell_type": "code",
      "execution_count": null,
      "id": "30f54ec2",
      "metadata": {
        "colab": {
          "base_uri": "https://localhost:8080/"
        },
        "id": "30f54ec2",
        "outputId": "7ae581ab-766c-4119-d83d-8d92f703f135"
      },
      "outputs": [
        {
          "output_type": "execute_result",
          "data": {
            "text/plain": [
              "(6, 5, 4, 3, 2, 1)"
            ]
          },
          "metadata": {},
          "execution_count": 71
        }
      ],
      "source": [
        "fungsi_banyak_input(1,2,3,4,5,6)"
      ]
    },
    {
      "cell_type": "code",
      "execution_count": null,
      "id": "d3d5e905",
      "metadata": {
        "colab": {
          "base_uri": "https://localhost:8080/"
        },
        "id": "d3d5e905",
        "outputId": "d9ffb71b-5ad2-43ea-e54a-25cae9805ba3"
      },
      "outputs": [
        {
          "output_type": "stream",
          "name": "stdout",
          "text": [
            "Nilai ulangan akhir saya adalah 100 maka saya sangat senang\n"
          ]
        }
      ],
      "source": [
        "nilai = 100\n",
        "print(f'Nilai ulangan akhir saya adalah {nilai} maka saya sangat senang')"
      ]
    },
    {
      "cell_type": "markdown",
      "id": "a540c1e0",
      "metadata": {
        "id": "a540c1e0"
      },
      "source": [
        "Oke. Kita selesai dengan 'function'.\n",
        "\n",
        "Kalo gitu 'method' apa?\n",
        "\n",
        "Method itu mirip seperti function, tapi 'terikat' sama object.\n",
        "\n",
        "Method adalah function yang tergantung sama object. Bedanya apa dong? Pas kita manggil sebuah method, biasanya letaknya dia adalah setelah tanda titik di sebelah kanan object. Maksudnya apa si? Gini..."
      ]
    },
    {
      "cell_type": "code",
      "execution_count": null,
      "id": "65235052",
      "metadata": {
        "id": "65235052"
      },
      "outputs": [],
      "source": [
        "list_contoh = [1,2,3,4,5,6]"
      ]
    },
    {
      "cell_type": "markdown",
      "id": "3ce8150e",
      "metadata": {
        "id": "3ce8150e"
      },
      "source": [
        "Kita tambahin ya angka 8 ke list contoh itu?"
      ]
    },
    {
      "cell_type": "code",
      "execution_count": null,
      "id": "8994c884",
      "metadata": {
        "id": "8994c884"
      },
      "outputs": [],
      "source": [
        "list_contoh.append(8)"
      ]
    },
    {
      "cell_type": "code",
      "execution_count": null,
      "id": "2d1a9033",
      "metadata": {
        "colab": {
          "base_uri": "https://localhost:8080/"
        },
        "id": "2d1a9033",
        "outputId": "ec3876fe-1012-4880-8d6c-a792e4d1c51e"
      },
      "outputs": [
        {
          "output_type": "execute_result",
          "data": {
            "text/plain": [
              "[1, 2, 3, 4, 5, 6, 8]"
            ]
          },
          "metadata": {},
          "execution_count": 75
        }
      ],
      "source": [
        "list_contoh"
      ]
    },
    {
      "cell_type": "markdown",
      "id": "2891cc0d",
      "metadata": {
        "id": "2891cc0d"
      },
      "source": [
        "Nah, append ini adalah `method`.\n",
        "\n",
        "Append ini merupakan `method` khusus buat object-object yang tipenya itu `list`. "
      ]
    },
    {
      "cell_type": "code",
      "execution_count": null,
      "id": "cf39ac43",
      "metadata": {
        "id": "cf39ac43"
      },
      "outputs": [],
      "source": [
        "himpunan_baru = {1,2,3,4,5}"
      ]
    },
    {
      "cell_type": "code",
      "execution_count": null,
      "id": "61b6e4ef",
      "metadata": {
        "id": "61b6e4ef"
      },
      "outputs": [],
      "source": [
        "himpunan_baru.add(6)"
      ]
    },
    {
      "cell_type": "markdown",
      "id": "9597c9f7",
      "metadata": {
        "id": "9597c9f7"
      },
      "source": [
        "Error kan?"
      ]
    },
    {
      "cell_type": "code",
      "execution_count": null,
      "id": "fe70b8e7",
      "metadata": {
        "id": "fe70b8e7"
      },
      "outputs": [],
      "source": [
        "himpunan_baru.add(6)"
      ]
    },
    {
      "cell_type": "code",
      "execution_count": null,
      "id": "ef35b8e4",
      "metadata": {
        "colab": {
          "base_uri": "https://localhost:8080/"
        },
        "id": "ef35b8e4",
        "outputId": "203be084-3d90-4990-898c-f1964eb61cdb"
      },
      "outputs": [
        {
          "output_type": "execute_result",
          "data": {
            "text/plain": [
              "{1, 2, 3, 4, 5, 6}"
            ]
          },
          "metadata": {},
          "execution_count": 79
        }
      ],
      "source": [
        "himpunan_baru"
      ]
    },
    {
      "cell_type": "markdown",
      "id": "a3263153",
      "metadata": {
        "id": "a3263153"
      },
      "source": [
        "Harus .add kalo buat nambahin sesuatu ke `set`, ga bisa append."
      ]
    },
    {
      "cell_type": "markdown",
      "id": "ed0d506e",
      "metadata": {
        "id": "ed0d506e"
      },
      "source": [
        "Kita bisa ngebuat method baru, tapi ya untuk hal itu, kita harus membuat object baru, dan itu merupakan materi yang dinamakan 'Object Oriented Programming'. Next time!"
      ]
    },
    {
      "cell_type": "markdown",
      "id": "3e32bb75",
      "metadata": {
        "id": "3e32bb75"
      },
      "source": [
        "### Looping"
      ]
    },
    {
      "cell_type": "markdown",
      "id": "b4f7c09d",
      "metadata": {
        "id": "b4f7c09d"
      },
      "source": [
        "Looping is a way to do a process over and over again until a certain condition is fulfilled."
      ]
    },
    {
      "cell_type": "code",
      "execution_count": null,
      "id": "457bbb45",
      "metadata": {
        "colab": {
          "base_uri": "https://localhost:8080/"
        },
        "id": "457bbb45",
        "outputId": "4ab55e63-b62f-4266-a502-a00b60283fda"
      },
      "outputs": [
        {
          "output_type": "stream",
          "name": "stdout",
          "text": [
            "Nama peserta: Aldo\n",
            "Nama peserta: Budi\n",
            "Nama peserta: Cindy\n",
            "Nama peserta: Dilan\n",
            "Nama peserta: Ed Sheeran\n"
          ]
        }
      ],
      "source": [
        "## This looping prints all members of a list\n",
        "list_loop = ['Aldo', 'Budi', 'Cindy', 'Dilan', 'Ed Sheeran']\n",
        "\n",
        "for _ in list_loop:\n",
        "    print('Nama peserta:', _)"
      ]
    },
    {
      "cell_type": "code",
      "execution_count": null,
      "id": "85a6d42e",
      "metadata": {
        "colab": {
          "base_uri": "https://localhost:8080/"
        },
        "id": "85a6d42e",
        "outputId": "e0c017c3-e09f-4a4e-f241-16b47ecd8090"
      },
      "outputs": [
        {
          "output_type": "stream",
          "name": "stdout",
          "text": [
            "2\n",
            "4\n",
            "6\n",
            "8\n",
            "10\n",
            "12\n",
            "14\n",
            "16\n"
          ]
        }
      ],
      "source": [
        "list_loop = [1,2,3,4,5,6,7,8]\n",
        "for number in list_loop:\n",
        "    print(number*2)"
      ]
    },
    {
      "cell_type": "code",
      "execution_count": null,
      "id": "08b3beb7",
      "metadata": {
        "colab": {
          "base_uri": "https://localhost:8080/"
        },
        "id": "08b3beb7",
        "outputId": "8a4ac20d-eb03-4422-eeb7-e2b48a0f10bd"
      },
      "outputs": [
        {
          "output_type": "stream",
          "name": "stdout",
          "text": [
            "Abc\n",
            "Abc\n",
            "Abc\n",
            "Abc\n",
            "Abc\n",
            "Abc\n",
            "Abc\n",
            "Abc\n",
            "Abc\n",
            "Abc\n"
          ]
        }
      ],
      "source": [
        "nama = 'Abc'\n",
        "\n",
        "for i in range(10):\n",
        "    print(nama)"
      ]
    },
    {
      "cell_type": "code",
      "execution_count": null,
      "id": "3432bfc9",
      "metadata": {
        "colab": {
          "base_uri": "https://localhost:8080/"
        },
        "id": "3432bfc9",
        "outputId": "43171085-3931-4130-8c2c-67104c506c20"
      },
      "outputs": [
        {
          "name": "stdout",
          "output_type": "stream",
          "text": [
            "Beri saya sebuah bilangan:  1.1\n"
          ]
        }
      ],
      "source": [
        "bilangan = input('Beri saya sebuah bilangan:  ')"
      ]
    },
    {
      "cell_type": "code",
      "execution_count": null,
      "id": "10a90741",
      "metadata": {
        "colab": {
          "base_uri": "https://localhost:8080/"
        },
        "id": "10a90741",
        "outputId": "d19cccc9-0331-49fe-e4d9-71d0f2cfa5f3"
      },
      "outputs": [
        {
          "output_type": "execute_result",
          "data": {
            "text/plain": [
              "str"
            ]
          },
          "metadata": {},
          "execution_count": 97
        }
      ],
      "source": [
        "type(bilangan)"
      ]
    },
    {
      "cell_type": "code",
      "execution_count": null,
      "id": "b6519a64",
      "metadata": {
        "colab": {
          "base_uri": "https://localhost:8080/"
        },
        "id": "b6519a64",
        "outputId": "64aa6603-a797-48b9-ba14-92ccdf3fefc4"
      },
      "outputs": [
        {
          "output_type": "stream",
          "name": "stdout",
          "text": [
            "Mau angka berapa yang ditulis kelipatannya? 4\n",
            "Berapa kelipatan 4 yang diinginkan? 5\n",
            "4\n",
            "8\n",
            "12\n",
            "16\n",
            "20\n"
          ]
        }
      ],
      "source": [
        "a = 0\n",
        "\n",
        "kelipatan_angka_apa = int(input('Mau angka berapa yang ditulis kelipatannya? '))\n",
        "berapa_kali = int(input(f'Berapa kelipatan {kelipatan_angka_apa} yang diinginkan? '))\n",
        "\n",
        "for i in range(berapa_kali):\n",
        "    a = a + kelipatan_angka_apa\n",
        "    print(a)"
      ]
    },
    {
      "cell_type": "code",
      "execution_count": null,
      "id": "3c569155",
      "metadata": {
        "colab": {
          "base_uri": "https://localhost:8080/"
        },
        "id": "3c569155",
        "outputId": "62b03787-79bf-408e-e6af-b780f46b3abd"
      },
      "outputs": [
        {
          "output_type": "stream",
          "name": "stdout",
          "text": [
            "Teks ini akan diulang\n",
            "Teks ini akan diulang\n",
            "Teks ini akan diulang\n",
            "Teks ini akan diulang\n",
            "Teks ini akan diulang\n",
            "Teks ini akan diulang\n",
            "Teks ini akan diulang\n",
            "Teks ini akan diulang\n",
            "Teks ini akan diulang\n",
            "Teks ini akan diulang\n"
          ]
        }
      ],
      "source": [
        "for p in range(10):\n",
        "    print('Teks ini akan diulang')"
      ]
    },
    {
      "cell_type": "markdown",
      "id": "4f1e7037",
      "metadata": {
        "id": "4f1e7037"
      },
      "source": [
        "### If Else"
      ]
    },
    {
      "cell_type": "markdown",
      "id": "904dda70",
      "metadata": {
        "id": "904dda70"
      },
      "source": [
        "If Else usage is similar to how you would usually use If Else in Excel."
      ]
    },
    {
      "cell_type": "code",
      "execution_count": null,
      "id": "dcf8cc67",
      "metadata": {
        "colab": {
          "base_uri": "https://localhost:8080/"
        },
        "id": "dcf8cc67",
        "outputId": "365272c7-74f5-4b34-bef4-c3706104f594"
      },
      "outputs": [
        {
          "output_type": "stream",
          "name": "stdout",
          "text": [
            "Lulus\n"
          ]
        }
      ],
      "source": [
        "nilai = 80\n",
        "\n",
        "if nilai > 70:\n",
        "    print('Lulus')\n",
        "else:\n",
        "    print('Tidak Lulus')"
      ]
    },
    {
      "cell_type": "code",
      "execution_count": null,
      "id": "1b6cfadf",
      "metadata": {
        "colab": {
          "base_uri": "https://localhost:8080/"
        },
        "id": "1b6cfadf",
        "outputId": "680e53f7-fe75-4fb1-a03a-b77833426038"
      },
      "outputs": [
        {
          "output_type": "execute_result",
          "data": {
            "text/plain": [
              "True"
            ]
          },
          "metadata": {},
          "execution_count": 100
        }
      ],
      "source": [
        "1+1 == 2"
      ]
    },
    {
      "cell_type": "code",
      "execution_count": null,
      "id": "75c86f56",
      "metadata": {
        "colab": {
          "base_uri": "https://localhost:8080/"
        },
        "id": "75c86f56",
        "outputId": "47f44a11-7a43-4f94-f54a-d7f37e5e950a"
      },
      "outputs": [
        {
          "output_type": "stream",
          "name": "stdout",
          "text": [
            "Kamu harus mengulang kelas ini.\n"
          ]
        }
      ],
      "source": [
        "score = 95\n",
        "cheat = True\n",
        "\n",
        "if (score < 70) or (cheat == True):\n",
        "    print('Kamu harus mengulang kelas ini.')\n",
        "elif score < 85:\n",
        "    print('Kamu lulus')\n",
        "elif score < 90:\n",
        "    print('Kamu dapat B+')\n",
        "else:\n",
        "    print('Selamat! Kamu dapet A')"
      ]
    },
    {
      "cell_type": "code",
      "execution_count": null,
      "id": "673ab111",
      "metadata": {
        "colab": {
          "base_uri": "https://localhost:8080/"
        },
        "id": "673ab111",
        "outputId": "00059c72-68fb-4e22-e450-794d265e498f"
      },
      "outputs": [
        {
          "output_type": "stream",
          "name": "stdout",
          "text": [
            "Congratulations! You get an A!\n"
          ]
        }
      ],
      "source": [
        "score = 90\n",
        "cheat = False\n",
        "\n",
        "if (score < 70) or (cheat == True):\n",
        "    print('You need to retake the class.')\n",
        "elif score < 85:\n",
        "    print('Great! You passed.')\n",
        "elif score < 90:\n",
        "    print('Great! You get a B+')\n",
        "else:\n",
        "    print('Congratulations! You get an A!')"
      ]
    },
    {
      "cell_type": "markdown",
      "id": "174f3635",
      "metadata": {
        "id": "174f3635"
      },
      "source": [
        "### Combining If Else and Loop"
      ]
    },
    {
      "cell_type": "code",
      "execution_count": null,
      "id": "21163163",
      "metadata": {
        "colab": {
          "base_uri": "https://localhost:8080/"
        },
        "id": "21163163",
        "outputId": "e2aeb483-5289-4fe1-9320-39b46aa284b6"
      },
      "outputs": [
        {
          "output_type": "stream",
          "name": "stdout",
          "text": [
            "Nilai anak yang remed adalah...\n",
            "60\n",
            "50\n",
            "45\n"
          ]
        }
      ],
      "source": [
        "nilai = [60,70,80,90,100,50,75,85,45,100,90]\n",
        "\n",
        "print('Nilai anak yang remed adalah...')\n",
        "\n",
        "for u in nilai:\n",
        "    if u < 70:\n",
        "        print(u)"
      ]
    },
    {
      "cell_type": "markdown",
      "id": "b574c698",
      "metadata": {
        "id": "b574c698"
      },
      "source": [
        "### BONUS Material (If we still have extra time): String and Indexing in Python"
      ]
    },
    {
      "cell_type": "markdown",
      "id": "be486925",
      "metadata": {
        "id": "be486925"
      },
      "source": [
        "Strings are text data. In reality, it does not only contain letters, but also symbols we usually use in texts, such as '-', '!', and even the white space between two words."
      ]
    },
    {
      "cell_type": "code",
      "execution_count": null,
      "id": "263faa38",
      "metadata": {
        "id": "263faa38"
      },
      "outputs": [],
      "source": [
        "teks = 'dibimbing'"
      ]
    },
    {
      "cell_type": "code",
      "execution_count": null,
      "id": "221e5a3e",
      "metadata": {
        "colab": {
          "base_uri": "https://localhost:8080/",
          "height": 36
        },
        "id": "221e5a3e",
        "outputId": "2d60a44c-4d71-4bfd-e6a1-d871cdea7fe8"
      },
      "outputs": [
        {
          "output_type": "execute_result",
          "data": {
            "text/plain": [
              "'ibi'"
            ],
            "application/vnd.google.colaboratory.intrinsic+json": {
              "type": "string"
            }
          },
          "metadata": {},
          "execution_count": 107
        }
      ],
      "source": [
        "teks[1:4]"
      ]
    },
    {
      "cell_type": "code",
      "execution_count": null,
      "id": "db35173d",
      "metadata": {
        "id": "db35173d"
      },
      "outputs": [],
      "source": [
        "nomor_telepon = '+62215310535'"
      ]
    },
    {
      "cell_type": "code",
      "execution_count": null,
      "id": "50981556",
      "metadata": {
        "colab": {
          "base_uri": "https://localhost:8080/",
          "height": 36
        },
        "id": "50981556",
        "outputId": "e6d9fc27-b6fd-4d85-e870-88ff6651fd28"
      },
      "outputs": [
        {
          "output_type": "execute_result",
          "data": {
            "text/plain": [
              "'5310535'"
            ],
            "application/vnd.google.colaboratory.intrinsic+json": {
              "type": "string"
            }
          },
          "metadata": {},
          "execution_count": 109
        }
      ],
      "source": [
        "nomor_telepon[5:]"
      ]
    },
    {
      "cell_type": "code",
      "execution_count": null,
      "id": "35e47e1f",
      "metadata": {
        "id": "35e47e1f"
      },
      "outputs": [],
      "source": [
        "teks = 'abcdkjdhfgkshrioltef'"
      ]
    },
    {
      "cell_type": "code",
      "execution_count": null,
      "id": "5609e890",
      "metadata": {
        "colab": {
          "base_uri": "https://localhost:8080/",
          "height": 36
        },
        "id": "5609e890",
        "outputId": "76897d5b-d038-4a55-d976-336617bc681b"
      },
      "outputs": [
        {
          "output_type": "execute_result",
          "data": {
            "text/plain": [
              "'dkjdhfgk'"
            ],
            "application/vnd.google.colaboratory.intrinsic+json": {
              "type": "string"
            }
          },
          "metadata": {},
          "execution_count": 111
        }
      ],
      "source": [
        "teks[3:11]"
      ]
    },
    {
      "cell_type": "code",
      "execution_count": null,
      "id": "f8c2839b",
      "metadata": {
        "id": "f8c2839b"
      },
      "outputs": [],
      "source": [
        "teks[-5:-1]"
      ]
    },
    {
      "cell_type": "code",
      "execution_count": null,
      "id": "8522390c",
      "metadata": {
        "id": "8522390c"
      },
      "outputs": [],
      "source": [
        "text = 'This is a sentence'"
      ]
    },
    {
      "cell_type": "code",
      "execution_count": null,
      "id": "d33b5b03",
      "metadata": {
        "colab": {
          "base_uri": "https://localhost:8080/"
        },
        "id": "d33b5b03",
        "outputId": "009845b6-7b95-48b9-f12f-9a0e508c4493"
      },
      "outputs": [
        {
          "output_type": "stream",
          "name": "stdout",
          "text": [
            "T\n",
            "h\n",
            "i\n",
            "s\n",
            " \n",
            "i\n"
          ]
        }
      ],
      "source": [
        "print(text[0])\n",
        "print(text[1])\n",
        "print(text[2])\n",
        "print(text[3])\n",
        "print(text[4])\n",
        "print(text[5])"
      ]
    },
    {
      "cell_type": "markdown",
      "id": "aec7522e",
      "metadata": {
        "id": "aec7522e"
      },
      "source": [
        "We can use negative number to spell our string from the last letter!"
      ]
    },
    {
      "cell_type": "code",
      "execution_count": null,
      "id": "ce3be2ae",
      "metadata": {
        "colab": {
          "base_uri": "https://localhost:8080/"
        },
        "id": "ce3be2ae",
        "outputId": "49acc414-d966-4873-9ba3-9e28a0f0136a"
      },
      "outputs": [
        {
          "output_type": "stream",
          "name": "stdout",
          "text": [
            "e\n",
            "c\n"
          ]
        }
      ],
      "source": [
        "print(text[-1])\n",
        "print(text[-2])"
      ]
    },
    {
      "cell_type": "code",
      "execution_count": null,
      "id": "553b55dc",
      "metadata": {
        "id": "553b55dc"
      },
      "outputs": [],
      "source": [
        "text_1 = 'Coding with Python'\n",
        "text_2 = 'Belajar coding dengan dibimbing'"
      ]
    },
    {
      "cell_type": "code",
      "execution_count": null,
      "id": "fff9745c",
      "metadata": {
        "id": "fff9745c"
      },
      "outputs": [],
      "source": []
    },
    {
      "cell_type": "markdown",
      "id": "82ef3a36",
      "metadata": {
        "id": "82ef3a36"
      },
      "source": [
        "We also can split a sentence into words."
      ]
    },
    {
      "cell_type": "code",
      "execution_count": null,
      "id": "48e1d4aa",
      "metadata": {
        "id": "48e1d4aa"
      },
      "outputs": [],
      "source": [
        "text = 'This is a sentence'"
      ]
    },
    {
      "cell_type": "code",
      "execution_count": null,
      "id": "457bbf06",
      "metadata": {
        "colab": {
          "base_uri": "https://localhost:8080/"
        },
        "id": "457bbf06",
        "outputId": "b86a8430-439e-4f65-b270-f751328e287a"
      },
      "outputs": [
        {
          "output_type": "execute_result",
          "data": {
            "text/plain": [
              "['This', 'is', 'a', 'sentence']"
            ]
          },
          "metadata": {},
          "execution_count": 118
        }
      ],
      "source": [
        "text.split(' ')"
      ]
    },
    {
      "cell_type": "code",
      "execution_count": null,
      "id": "131c1340",
      "metadata": {
        "colab": {
          "base_uri": "https://localhost:8080/"
        },
        "id": "131c1340",
        "outputId": "f1c81a5b-363c-44d9-db63-d73d5834ac91"
      },
      "outputs": [
        {
          "output_type": "execute_result",
          "data": {
            "text/plain": [
              "['Coding', 'dengan', 'Python']"
            ]
          },
          "metadata": {},
          "execution_count": 119
        }
      ],
      "source": [
        "text_3 = 'Coding-dengan-Python'\n",
        "text_3.split('-')"
      ]
    },
    {
      "cell_type": "code",
      "execution_count": null,
      "id": "adc36ab3",
      "metadata": {
        "id": "adc36ab3"
      },
      "outputs": [],
      "source": [
        "list_baru = ['a','b','c']"
      ]
    },
    {
      "cell_type": "code",
      "execution_count": null,
      "id": "6f8cf297",
      "metadata": {
        "colab": {
          "base_uri": "https://localhost:8080/"
        },
        "id": "6f8cf297",
        "outputId": "3c5e1350-57f5-4010-c90f-6aedab61c4ce"
      },
      "outputs": [
        {
          "output_type": "execute_result",
          "data": {
            "text/plain": [
              "str"
            ]
          },
          "metadata": {},
          "execution_count": 121
        }
      ],
      "source": [
        "type('a')"
      ]
    },
    {
      "cell_type": "code",
      "execution_count": null,
      "id": "4a865d8d",
      "metadata": {
        "colab": {
          "base_uri": "https://localhost:8080/"
        },
        "id": "4a865d8d",
        "outputId": "f928f881-80bc-48f7-9054-e688cf7d9578"
      },
      "outputs": [
        {
          "output_type": "execute_result",
          "data": {
            "text/plain": [
              "str"
            ]
          },
          "metadata": {},
          "execution_count": 122
        }
      ],
      "source": [
        "x = 1\n",
        "type(str(x))"
      ]
    },
    {
      "cell_type": "code",
      "execution_count": null,
      "id": "1ba44757",
      "metadata": {
        "id": "1ba44757"
      },
      "outputs": [],
      "source": [
        "a = 1"
      ]
    },
    {
      "cell_type": "code",
      "execution_count": null,
      "id": "3dfc00bb",
      "metadata": {
        "id": "3dfc00bb"
      },
      "outputs": [],
      "source": []
    },
    {
      "cell_type": "code",
      "execution_count": null,
      "id": "7b936786",
      "metadata": {
        "id": "7b936786"
      },
      "outputs": [],
      "source": []
    },
    {
      "cell_type": "code",
      "execution_count": null,
      "id": "747934c3",
      "metadata": {
        "id": "747934c3"
      },
      "outputs": [],
      "source": []
    }
  ],
  "metadata": {
    "kernelspec": {
      "display_name": "Python 3",
      "language": "python",
      "name": "python3"
    },
    "language_info": {
      "codemirror_mode": {
        "name": "ipython",
        "version": 3
      },
      "file_extension": ".py",
      "mimetype": "text/x-python",
      "name": "python",
      "nbconvert_exporter": "python",
      "pygments_lexer": "ipython3",
      "version": "3.7.0"
    },
    "colab": {
      "provenance": [],
      "include_colab_link": true
    }
  },
  "nbformat": 4,
  "nbformat_minor": 5
}